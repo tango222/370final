{
 "cells": [
  {
   "cell_type": "code",
   "execution_count": 2,
   "metadata": {},
   "outputs": [],
   "source": [
    "%matplotlib inline\n",
    "\n",
    "from pathlib import Path\n",
    "\n",
    "#for data wrangling\n",
    "import numpy as np\n",
    "import pandas as pd\n",
    "\n",
    "#for graphing\n",
    "import matplotlib.pyplot as plt\n",
    "import seaborn as sns\n",
    "import altair as alt\n",
    "from warnings import filterwarnings\n",
    "filterwarnings('ignore')"
   ]
  },
  {
   "cell_type": "code",
   "execution_count": 3,
   "metadata": {},
   "outputs": [],
   "source": [
    "# for training our model\n",
    "X = pd.read_csv('./data/train_values.csv', index_col='patient_id')\n",
    "y = pd.read_csv('./data/train_labels.csv', index_col='patient_id').heart_disease_present\n",
    "\n",
    "test = pd.read_csv('./data/test_values.csv', index_col='patient_id')"
   ]
  },
  {
   "cell_type": "code",
   "execution_count": 4,
   "metadata": {},
   "outputs": [
    {
     "data": {
      "text/plain": [
       "slope_of_peak_exercise_st_segment         int64\n",
       "thal                                     object\n",
       "resting_blood_pressure                    int64\n",
       "chest_pain_type                           int64\n",
       "num_major_vessels                         int64\n",
       "fasting_blood_sugar_gt_120_mg_per_dl      int64\n",
       "resting_ekg_results                       int64\n",
       "serum_cholesterol_mg_per_dl               int64\n",
       "oldpeak_eq_st_depression                float64\n",
       "sex                                       int64\n",
       "age                                       int64\n",
       "max_heart_rate_achieved                   int64\n",
       "exercise_induced_angina                   int64\n",
       "dtype: object"
      ]
     },
     "execution_count": 4,
     "metadata": {},
     "output_type": "execute_result"
    }
   ],
   "source": [
    "pd.isnull(X).any()\n",
    "X.dtypes"
   ]
  },
  {
   "cell_type": "code",
   "execution_count": 5,
   "metadata": {},
   "outputs": [],
   "source": [
    "# Change data type of 'thal' column\n",
    "X['thal'] = X['thal'].apply(lambda thal: 0 if thal == 'normal' else 1 if thal == 'reversible_defect' else 2)\n",
    "test['thal'] = test['thal'].apply(lambda thal: 0 if thal == 'normal' else 1 if thal == 'reversible_defect' else 2)\n"
   ]
  },
  {
   "cell_type": "markdown",
   "metadata": {},
   "source": [
    "# MLP Regressor\n"
   ]
  },
  {
   "cell_type": "code",
   "execution_count": 6,
   "metadata": {},
   "outputs": [],
   "source": [
    "from sklearn.preprocessing import MinMaxScaler       # scaling data\n",
    "from sklearn.model_selection import train_test_split # splitting data\n",
    "from sklearn.model_selection import GridSearchCV     # for grid search\n",
    "from sklearn.pipeline import make_pipeline           # for making pipelines\n",
    "\n",
    "scaler = MinMaxScaler()\n",
    "test_values = scaler.fit_transform(test)\n",
    "X_values= scaler.fit_transform(X)\n",
    "\n",
    "\n",
    "#splitting data\n",
    "train_features, test_features, train_outcome, test_outcome = train_test_split(\n",
    "    X,\n",
    "    y,\n",
    "    test_size = 0.3,\n",
    "    random_state = 11\n",
    ")\n"
   ]
  },
  {
   "cell_type": "code",
   "execution_count": 7,
   "metadata": {
    "scrolled": true
   },
   "outputs": [
    {
     "name": "stdout",
     "output_type": "stream",
     "text": [
      "Fitting 10 folds for each of 3 candidates, totalling 30 fits\n"
     ]
    },
    {
     "name": "stderr",
     "output_type": "stream",
     "text": [
      "[Parallel(n_jobs=-1)]: Done  30 out of  30 | elapsed:    3.9s finished\n"
     ]
    },
    {
     "data": {
      "text/plain": [
       "GridSearchCV(cv=10, error_score='raise',\n",
       "       estimator=MLPRegressor(activation='relu', alpha=0.0001, batch_size='auto', beta_1=0.9,\n",
       "       beta_2=0.999, early_stopping=False, epsilon=1e-08,\n",
       "       hidden_layer_sizes=(100,), learning_rate='constant',\n",
       "       learning_rate_init=0.001, max_iter=200, momentum=0.9,\n",
       "       nesterovs_momentum=True, power_t=0.5, random_state=None,\n",
       "       shuffle=True, solver='lbfgs', tol=0.0001, validation_fraction=0.1,\n",
       "       verbose=False, warm_start=False),\n",
       "       fit_params=None, iid=True, n_jobs=-1,\n",
       "       param_grid={'learning_rate': ['constant', 'invscaling', 'adaptive']},\n",
       "       pre_dispatch='2*n_jobs', refit=True, return_train_score='warn',\n",
       "       scoring=None, verbose=2)"
      ]
     },
     "execution_count": 7,
     "metadata": {},
     "output_type": "execute_result"
    }
   ],
   "source": [
    "from sklearn.neural_network import MLPRegressor\n",
    "\n",
    "clf = MLPRegressor(solver='lbfgs')\n",
    "\n",
    "pipe = make_pipeline(scaler, clf)\n",
    "\n",
    "params = {'learning_rate': [\"constant\", \"invscaling\", \"adaptive\"] }\n",
    "\n",
    "gs = GridSearchCV(clf,param_grid=params,n_jobs=-1,verbose=2,cv=10)\n",
    "\n",
    "gs.fit(train_features, train_outcome)"
   ]
  },
  {
   "cell_type": "code",
   "execution_count": 8,
   "metadata": {},
   "outputs": [
    {
     "data": {
      "text/plain": [
       "-0.1249593931216979"
      ]
     },
     "execution_count": 8,
     "metadata": {},
     "output_type": "execute_result"
    }
   ],
   "source": [
    "gs.score(test_features, test_outcome)"
   ]
  },
  {
   "cell_type": "code",
   "execution_count": 9,
   "metadata": {},
   "outputs": [],
   "source": [
    "pred = gs.predict(test_features).astype(np.float64)"
   ]
  },
  {
   "cell_type": "code",
   "execution_count": 11,
   "metadata": {},
   "outputs": [
    {
     "data": {
      "text/plain": [
       "180"
      ]
     },
     "execution_count": 11,
     "metadata": {},
     "output_type": "execute_result"
    }
   ],
   "source": [
    "pred2 = gs.predict(X).astype(np.float64)\n",
    "len(pred2)"
   ]
  },
  {
   "cell_type": "code",
   "execution_count": 12,
   "metadata": {},
   "outputs": [],
   "source": [
    "predictions = gs.predict(test).astype(np.float64)"
   ]
  },
  {
   "cell_type": "code",
   "execution_count": 13,
   "metadata": {},
   "outputs": [],
   "source": [
    "submission_format = pd.read_csv('data/submission_format.csv')\n",
    "submission_format = submission_format.drop(['heart_disease_present'], axis = 1)\n",
    "submission_format['heart_disease_present'] = pd.Series(predictions)\n",
    "submission_format.to_csv('mlpregressor.csv',index=False)"
   ]
  },
  {
   "cell_type": "markdown",
   "metadata": {},
   "source": [
    "# Graphs\n"
   ]
  },
  {
   "cell_type": "code",
   "execution_count": 15,
   "metadata": {},
   "outputs": [
    {
     "data": {
      "text/plain": [
       "180"
      ]
     },
     "execution_count": 15,
     "metadata": {},
     "output_type": "execute_result"
    }
   ],
   "source": [
    "a = pd.read_csv('./data/train_values.csv')\n",
    "compare = pd.read_csv('./data/train_labels.csv')\n",
    "len(X.age)\n"
   ]
  },
  {
   "cell_type": "code",
   "execution_count": 16,
   "metadata": {},
   "outputs": [],
   "source": [
    "compare['predictions'] = pred2\n",
    "compare['age'] = a.age"
   ]
  },
  {
   "cell_type": "code",
   "execution_count": 17,
   "metadata": {},
   "outputs": [],
   "source": [
    "compare['sex'] = a.sex"
   ]
  },
  {
   "cell_type": "code",
   "execution_count": 18,
   "metadata": {},
   "outputs": [],
   "source": [
    "present = compare[compare.heart_disease_present == 1]\n",
    "notPresent = compare[compare.heart_disease_present == 0]"
   ]
  },
  {
   "cell_type": "code",
   "execution_count": 20,
   "metadata": {},
   "outputs": [
    {
     "data": {
      "text/html": [
       "<iframe id=\"igraph\" scrolling=\"no\" style=\"border:none;\" seamless=\"seamless\" src=\"https://plot.ly/~tango222/52.embed\" height=\"525px\" width=\"100%\"></iframe>"
      ],
      "text/plain": [
       "<plotly.tools.PlotlyDisplay object>"
      ]
     },
     "execution_count": 20,
     "metadata": {},
     "output_type": "execute_result"
    }
   ],
   "source": [
    "import plotly\n",
    "import plotly.plotly as py\n",
    "import plotly.graph_objs as go\n",
    "\n",
    "plotly.tools.set_credentials_file(username='tango222', api_key='BlQjq4nsuvthlCZY9BPV')\n",
    "\n",
    "import plotly.plotly as py\n",
    "import plotly.graph_objs as go\n",
    "\n",
    "# Create a trace\n",
    "heart_disease_present = go.Scatter(\n",
    "    x = present.age,\n",
    "    y = present.predictions,\n",
    "    mode = 'markers',\n",
    "    name = \"1\",\n",
    "    marker = dict( size = 10,\n",
    "            color = '#4da6ff',\n",
    "            line = dict(width = 1)\n",
    "    )\n",
    ")\n",
    "\n",
    "heart_disease_not_present = go.Scatter(\n",
    "    x = notPresent.age,\n",
    "    y = notPresent.predictions,\n",
    "    mode = 'markers',\n",
    "    name = \"0\",\n",
    "    marker = dict( size = 10,\n",
    "            color = '#ff8080',\n",
    "            line = dict(width = 1)\n",
    ")\n",
    ")\n",
    "data1 = [heart_disease_present,heart_disease_not_present]\n",
    "    \n",
    "layout1 = dict(title= 'Age v Predicted Probability of Heart Disease',\n",
    "    hovermode= 'closest',\n",
    "    xaxis= dict(\n",
    "        title= 'Age',\n",
    "    ),\n",
    "    yaxis=dict(\n",
    "        title= 'Predicted Probability of Heart Disease',\n",
    "    )\n",
    ")\n",
    "\n",
    "py.iplot(data1, layout = layout1)"
   ]
  },
  {
   "cell_type": "code",
   "execution_count": 21,
   "metadata": {
    "scrolled": true
   },
   "outputs": [
    {
     "data": {
      "text/html": [
       "<iframe id=\"igraph\" scrolling=\"no\" style=\"border:none;\" seamless=\"seamless\" src=\"https://plot.ly/~tango222/54.embed\" height=\"525px\" width=\"100%\"></iframe>"
      ],
      "text/plain": [
       "<plotly.tools.PlotlyDisplay object>"
      ]
     },
     "execution_count": 21,
     "metadata": {},
     "output_type": "execute_result"
    }
   ],
   "source": [
    "# Plot for age v probability of heart disease\n",
    "heart_disease_present2 = go.Scatter(\n",
    "    x = present.sex,\n",
    "    y = present.predictions,\n",
    "    mode = 'markers', \n",
    "    name = \"1\",\n",
    "    marker = dict(size= 14,\n",
    "            color = '#4da6ff',\n",
    "            line = dict(width = 1),\n",
    "            opacity = 0.2\n",
    "    )\n",
    ")\n",
    "\n",
    "heart_disease_not_present2 = go.Scatter(\n",
    "    x = notPresent.sex,\n",
    "    y = notPresent.predictions,\n",
    "    mode = 'markers',\n",
    "    name = '0',\n",
    "    marker = dict(size= 14,\n",
    "            color = '#ff8080',\n",
    "            line = dict(width = 1),\n",
    "            opacity = 0.2      \n",
    ")\n",
    ")\n",
    "data2 = [heart_disease_present2,heart_disease_not_present2]\n",
    "    \n",
    "layout2 = dict(title= 'Sex v Predicted Probability of Heart Disease',\n",
    "    hovermode= 'closest',\n",
    "    xaxis= dict(\n",
    "        title= 'Sex',\n",
    "    ),\n",
    "    yaxis=dict(\n",
    "        title= ' Predicted Probability of Heart Disease',\n",
    "    )\n",
    ")\n",
    "\n",
    "\n",
    "py.iplot(data2, layout = layout2)"
   ]
  },
  {
   "cell_type": "code",
   "execution_count": 22,
   "metadata": {},
   "outputs": [
    {
     "data": {
      "text/html": [
       "<iframe id=\"igraph\" scrolling=\"no\" style=\"border:none;\" seamless=\"seamless\" src=\"https://plot.ly/~tango222/58.embed\" height=\"525px\" width=\"100%\"></iframe>"
      ],
      "text/plain": [
       "<plotly.tools.PlotlyDisplay object>"
      ]
     },
     "execution_count": 22,
     "metadata": {},
     "output_type": "execute_result"
    }
   ],
   "source": [
    "# prediction v actual\n",
    "\n",
    "\n",
    "y0 = present.predictions\n",
    "y1 = notPresent.predictions\n",
    "\n",
    "trace1 = go.Box(\n",
    "    y=y0, \n",
    "    name = '1'\n",
    ")\n",
    "trace2 = go.Box(\n",
    "    y=y1,\n",
    "    name = \"0\"\n",
    ")\n",
    "data4 = [trace1, trace2]\n",
    "py.iplot(data4)\n",
    "    \n",
    "layout3 = dict(title= 'Predicted Probability of Heart Disease Distribution',\n",
    "    hovermode= 'closest',\n",
    ")\n",
    "\n",
    "py.iplot(data4, layout = layout3) "
   ]
  }
 ],
 "metadata": {
  "kernelspec": {
   "display_name": "Python 3",
   "language": "python",
   "name": "python3"
  },
  "language_info": {
   "codemirror_mode": {
    "name": "ipython",
    "version": 3
   },
   "file_extension": ".py",
   "mimetype": "text/x-python",
   "name": "python",
   "nbconvert_exporter": "python",
   "pygments_lexer": "ipython3",
   "version": "3.7.0"
  }
 },
 "nbformat": 4,
 "nbformat_minor": 2
}
