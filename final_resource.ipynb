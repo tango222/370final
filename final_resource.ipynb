{
 "cells": [
  {
   "cell_type": "markdown",
   "metadata": {},
   "source": [
    "# Machine Learning with a Heart"
   ]
  },
  {
   "cell_type": "markdown",
   "metadata": {},
   "source": [
    "The purpose of our project is to create a machine learning model to predict whether or not a person has heart disease based on a variety of factors. Heart disease is the leading cause of death in the United States, with 1 of 4 deaths. Learning about causes of heart problems and healthy habits to prevent heart disease can be beneficial in the long run. Early detection of heart disease can be an effective technique to reducing deaths from heart diseases. \n",
    "\n",
    "In our broader problem domain, our research would help doctors predict cases of heart disease based on the patient’s health history and habits. The Center of Disease Control and Prevention mentions that early action is important for heart attacks. There are also risk factors such as high blood pressure and high cholesterol putting Americans at a higher risk for heart disease.\n",
    "\n",
    "We will be using a dataset that comes from the DrivenData “Warm Up: Machine Learning with a Heart” competition. The dataset is from a study of heart disease and includes measurements on patient health and cardiovascular statistics. It is provided by the Cleveland Heart Disease Database via the UCI Machine Learning Repository."
   ]
  },
  {
   "cell_type": "code",
   "execution_count": 1,
   "metadata": {},
   "outputs": [
    {
     "data": {
      "text/html": [
       "<script>\n",
       "  function code_toggle() {\n",
       "    if (code_shown){\n",
       "      $('div.input').hide('500');\n",
       "      $('#toggleButton').val('Show Code')\n",
       "    } else {\n",
       "      $('div.input').show('500');\n",
       "      $('#toggleButton').val('Hide Code')\n",
       "    }\n",
       "    code_shown = !code_shown\n",
       "  }\n",
       "\n",
       "  $( document ).ready(function(){\n",
       "    code_shown=false;\n",
       "    $('div.input').hide()\n",
       "  });\n",
       "</script>\n",
       "<form action=\"javascript:code_toggle()\"><input type=\"submit\" id=\"toggleButton\" value=\"Show Code\"></form>\n"
      ],
      "text/plain": [
       "<IPython.core.display.HTML object>"
      ]
     },
     "metadata": {},
     "output_type": "display_data"
    }
   ],
   "source": [
    "%%html\n",
    "<script>\n",
    "  function code_toggle() {\n",
    "    if (code_shown){\n",
    "      $('div.input').hide('500');\n",
    "      $('#toggleButton').val('Show Code')\n",
    "    } else {\n",
    "      $('div.input').show('500');\n",
    "      $('#toggleButton').val('Hide Code')\n",
    "    }\n",
    "    code_shown = !code_shown\n",
    "  }\n",
    "\n",
    "  $( document ).ready(function(){\n",
    "    code_shown=false;\n",
    "    $('div.input').hide()\n",
    "  });\n",
    "</script>\n",
    "<form action=\"javascript:code_toggle()\"><input type=\"submit\" id=\"toggleButton\" value=\"Show Code\"></form>"
   ]
  },
  {
   "cell_type": "code",
   "execution_count": 2,
   "metadata": {},
   "outputs": [],
   "source": [
    "%matplotlib inline\n",
    "\n",
    "from pathlib import Path\n",
    "\n",
    "import numpy as np\n",
    "import pandas as pd\n",
    "\n",
    "import matplotlib.pyplot as plt\n",
    "import seaborn as sns\n",
    "from warnings import filterwarnings\n",
    "filterwarnings('ignore')"
   ]
  },
  {
   "cell_type": "code",
   "execution_count": 3,
   "metadata": {},
   "outputs": [],
   "source": [
    "# for training our model\n",
    "train_values = pd.read_csv('./data/train_values.csv', index_col='patient_id')\n",
    "train_labels = pd.read_csv('./data/train_labels.csv', index_col='patient_id')"
   ]
  },
  {
   "cell_type": "markdown",
   "metadata": {},
   "source": [
    "## Data Prep"
   ]
  },
  {
   "cell_type": "code",
   "execution_count": 4,
   "metadata": {},
   "outputs": [],
   "source": [
    "import matplotlib.pyplot as plt\n",
    "import numpy as np\n",
    "import pandas as pd\n",
    "import seaborn as sns\n",
    "from sklearn.preprocessing import MinMaxScaler       # scaling data\n",
    "from sklearn.model_selection import train_test_split # splitting data\n",
    "from sklearn.model_selection import GridSearchCV     # for grid search\n",
    "from sklearn.pipeline import make_pipeline           # for making pipelines\n",
    "%matplotlib inline\n",
    "from sklearn.ensemble import RandomForestRegressor\n",
    "from sklearn.metrics import log_loss\n",
    "from sklearn.neural_network import MLPRegressor\n",
    "from sklearn.neighbors import KNeighborsRegressor\n",
    "from sklearn.model_selection import KFold\n",
    "from sklearn.model_selection import cross_val_score\n",
    "from sklearn.metrics import mean_absolute_error\n",
    "from sklearn.metrics import accuracy_score\n",
    "# for preprocessing the data\n",
    "from sklearn.preprocessing import StandardScaler\n",
    "\n",
    "# the model\n",
    "from sklearn.linear_model import LogisticRegression\n",
    "\n",
    "# for combining the preprocess with model training\n",
    "from sklearn.pipeline import Pipeline\n",
    "\n",
    "# for optimizing parameters of the pipeline\n",
    "from sklearn.model_selection import GridSearchCV"
   ]
  },
  {
   "cell_type": "code",
   "execution_count": 30,
   "metadata": {},
   "outputs": [],
   "source": [
    "train_labels = pd.read_csv('data/train_labels.csv')\n",
    "train_values = pd.read_csv('data/train_values.csv')\n",
    "test_values = pd.read_csv('data/test_values.csv')\n",
    "submission_format = pd.read_csv('data/submission_format.csv')\n",
    "\n",
    "train_values.drop(['patient_id'], axis=1, inplace=True)\n",
    "test_values.drop(['patient_id'], axis=1, inplace=True)\n",
    "train_labels.drop(['patient_id'], axis=1, inplace=True)\n",
    "\n",
    "train_values['thal'] = train_values['thal'].apply(lambda thal: 0 if thal == 'normal' else 1)\n",
    "test_values['thal'] = test_values['thal'].apply(lambda thal: 0 if thal == 'normal' else 1)\n",
    "\n",
    "all_data = train_values.join(train_labels)\n",
    "df = (train_values.join(train_labels))\n",
    "\n",
    "heart_disease_present = all_data[all_data.heart_disease_present == 1]\n",
    "no_heart_disease = all_data[all_data.heart_disease_present == 0]"
   ]
  },
  {
   "cell_type": "code",
   "execution_count": 23,
   "metadata": {},
   "outputs": [
    {
     "data": {
      "text/plain": [
       "<matplotlib.axes._subplots.AxesSubplot at 0x11da23278>"
      ]
     },
     "execution_count": 23,
     "metadata": {},
     "output_type": "execute_result"
    },
    {
     "data": {
      "image/png": "[encoded data removed]",
      "text/plain": [
       "<matplotlib.figure.Figure at 0x11d8f5668>"
      ]
     },
     "metadata": {
      "needs_background": "light"
     },
     "output_type": "display_data"
    }
   ],
   "source": [
    "train_labels.heart_disease_present.value_counts().plot.bar(title='Number with Heart Disease')\n"
   ]
  },
  {
   "cell_type": "code",
   "execution_count": 24,
   "metadata": {},
   "outputs": [],
   "source": [
    "corr = df.corr()"
   ]
  },
  {
   "cell_type": "code",
   "execution_count": 25,
   "metadata": {},
   "outputs": [
    {
     "data": {
      "text/plain": [
       "<matplotlib.axes._subplots.AxesSubplot at 0x11dbb92e8>"
      ]
     },
     "execution_count": 25,
     "metadata": {},
     "output_type": "execute_result"
    },
    {
     "data": {
      "image/png": "[encoded data removed]",
      "text/plain": [
       "<matplotlib.figure.Figure at 0x11dbcfe48>"
      ]
     },
     "metadata": {
      "needs_background": "light"
     },
     "output_type": "display_data"
    }
   ],
   "source": [
    "# correlation\n",
    "(corr\n",
    "     .heart_disease_present\n",
    "     .drop('heart_disease_present') # don't compare with myself\n",
    "     .sort_values(ascending=False)\n",
    "     .plot\n",
    "     .barh())"
   ]
  },
  {
   "cell_type": "code",
   "execution_count": 26,
   "metadata": {},
   "outputs": [
    {
     "data": {
      "text/plain": [
       "max_heart_rate_achieved                -0.375352\n",
       "fasting_blood_sugar_gt_120_mg_per_dl    0.003379\n",
       "resting_blood_pressure                  0.078506\n",
       "serum_cholesterol_mg_per_dl             0.079775\n",
       "age                                     0.138255\n",
       "resting_ekg_results                     0.145933\n",
       "sex                                     0.335421\n",
       "slope_of_peak_exercise_st_segment       0.344224\n",
       "oldpeak_eq_st_depression                0.382930\n",
       "chest_pain_type                         0.412829\n",
       "num_major_vessels                       0.421519\n",
       "exercise_induced_angina                 0.448647\n",
       "thal                                    0.528812\n",
       "Name: heart_disease_present, dtype: float64"
      ]
     },
     "execution_count": 26,
     "metadata": {},
     "output_type": "execute_result"
    }
   ],
   "source": [
    "corr.sort_values(by = [\"heart_disease_present\"]).drop([\"heart_disease_present\"]).heart_disease_present\n"
   ]
  },
  {
   "cell_type": "markdown",
   "metadata": {},
   "source": [
    "The following features chosen has the highest correlation. I will be using the selectted features in my machine learning algorithm (logistic regression)"
   ]
  },
  {
   "cell_type": "markdown",
   "metadata": {},
   "source": []
  },
  {
   "cell_type": "code",
   "execution_count": 27,
   "metadata": {},
   "outputs": [],
   "source": [
    "#Features with high correlation - from kresta's analysis\n",
    "selected_features = ['max_heart_rate_achieved', \n",
    "                     'oldpeak_eq_st_depression', \n",
    "                     'chest_pain_type', \n",
    "                     'num_major_vessels',\n",
    "                       'exercise_induced_angina']\n",
    "train_values_subset = train_values[selected_features]"
   ]
  },
  {
   "cell_type": "code",
   "execution_count": 28,
   "metadata": {},
   "outputs": [
    {
     "data": {
      "text/plain": [
       "<seaborn.axisgrid.PairGrid at 0x11d908278>"
      ]
     },
     "execution_count": 28,
     "metadata": {},
     "output_type": "execute_result"
    },
    {
     "data": {
      "image/png": "[encoded data removed]",
      "text/plain": [
       "<matplotlib.figure.Figure at 0x11dc40518>"
      ]
     },
     "metadata": {
      "needs_background": "light"
     },
     "output_type": "display_data"
    }
   ],
   "source": [
    "sns.pairplot(train_values.join(train_labels), \n",
    "             hue='heart_disease_present', \n",
    "             vars=selected_features)"
   ]
  },
  {
   "cell_type": "code",
   "execution_count": 31,
   "metadata": {},
   "outputs": [
    {
     "data": {
      "text/html": [
       "<script type=\"text/javascript\">window.PlotlyConfig = {MathJaxConfig: 'local'};</script><script type=\"text/javascript\">if (window.MathJax) {MathJax.Hub.Config({SVG: {font: \"STIX-Web\"}});}</script><script>requirejs.config({paths: { 'plotly': ['https://cdn.plot.ly/plotly-latest.min']},});if(!window._Plotly) {require(['plotly'],function(plotly) {window._Plotly=plotly;});}</script>"
      ],
      "text/vnd.plotly.v1+html": [
       "<script type=\"text/javascript\">window.PlotlyConfig = {MathJaxConfig: 'local'};</script><script type=\"text/javascript\">if (window.MathJax) {MathJax.Hub.Config({SVG: {font: \"STIX-Web\"}});}</script><script>requirejs.config({paths: { 'plotly': ['https://cdn.plot.ly/plotly-latest.min']},});if(!window._Plotly) {require(['plotly'],function(plotly) {window._Plotly=plotly;});}</script>"
      ]
     },
     "metadata": {},
     "output_type": "display_data"
    },
    {
     "data": {
      "application/vnd.plotly.v1+json": {
       "config": {
        "linkText": "Export to plot.ly",
        "plotlyServerURL": "https://plot.ly",
        "showLink": true
       },
       "data": [
        {
         "name": "heart disease present",
         "type": "histogram",
         "uid": "b8d702e9-66c7-4723-a7a8-227ee946a5d1",
         "x": [
          162,
          181,
          157,
          112,
          140,
          158,
          182,
          126,
          144,
          152,
          155,
          114,
          155,
          165,
          161,
          141,
          103,
          120,
          132,
          142,
          169,
          126,
          99,
          177,
          142,
          103,
          156,
          109,
          139,
          134,
          165,
          109,
          142,
          147,
          113,
          168,
          130,
          126,
          162,
          125,
          170,
          132,
          142,
          145,
          166,
          122,
          150,
          158,
          132,
          106,
          174,
          108,
          125,
          96,
          173,
          171,
          150,
          154,
          111,
          114,
          131,
          145,
          152,
          150,
          130,
          153,
          97,
          125,
          132,
          160,
          145,
          147,
          144,
          111,
          132,
          140,
          173,
          163,
          117,
          131
         ]
        },
        {
         "name": "no heart disease",
         "type": "histogram",
         "uid": "a1bb8787-82b5-46f4-83be-ea349a88362a",
         "x": [
          170,
          158,
          145,
          150,
          158,
          151,
          178,
          152,
          175,
          202,
          162,
          147,
          142,
          138,
          143,
          115,
          159,
          184,
          123,
          168,
          154,
          186,
          173,
          163,
          121,
          137,
          172,
          130,
          157,
          167,
          166,
          125,
          172,
          162,
          179,
          162,
          160,
          138,
          159,
          181,
          161,
          170,
          143,
          162,
          170,
          169,
          152,
          149,
          172,
          174,
          155,
          162,
          170,
          175,
          151,
          131,
          148,
          162,
          182,
          153,
          142,
          133,
          122,
          165,
          125,
          105,
          162,
          179,
          165,
          132,
          192,
          148,
          173,
          151,
          122,
          147,
          154,
          122,
          172,
          140,
          180,
          188,
          162,
          173,
          179,
          178,
          156,
          152,
          151,
          139,
          169,
          171,
          111,
          172,
          168,
          150,
          144,
          160,
          175,
          163
         ]
        }
       ],
       "layout": {
        "title": "Heart Disease Present by Max Heart Rate Achieved",
        "xaxis": {
         "title": "Max Rate Heart Achieved"
        },
        "yaxis": {
         "title": "Count"
        }
       }
      },
      "text/html": [
       "<div id=\"b67a5d24-aa3a-4e53-b5ed-536afd8084da\" style=\"height: 525px; width: 100%;\" class=\"plotly-graph-div\"></div><script type=\"text/javascript\">require([\"plotly\"], function(Plotly) { window.PLOTLYENV=window.PLOTLYENV || {};window.PLOTLYENV.BASE_URL=\"https://plot.ly\";Plotly.newPlot(\"b67a5d24-aa3a-4e53-b5ed-536afd8084da\", [{\"name\": \"heart disease present\", \"x\": [162, 181, 157, 112, 140, 158, 182, 126, 144, 152, 155, 114, 155, 165, 161, 141, 103, 120, 132, 142, 169, 126, 99, 177, 142, 103, 156, 109, 139, 134, 165, 109, 142, 147, 113, 168, 130, 126, 162, 125, 170, 132, 142, 145, 166, 122, 150, 158, 132, 106, 174, 108, 125, 96, 173, 171, 150, 154, 111, 114, 131, 145, 152, 150, 130, 153, 97, 125, 132, 160, 145, 147, 144, 111, 132, 140, 173, 163, 117, 131], \"type\": \"histogram\", \"uid\": \"b8d702e9-66c7-4723-a7a8-227ee946a5d1\"}, {\"name\": \"no heart disease\", \"x\": [170, 158, 145, 150, 158, 151, 178, 152, 175, 202, 162, 147, 142, 138, 143, 115, 159, 184, 123, 168, 154, 186, 173, 163, 121, 137, 172, 130, 157, 167, 166, 125, 172, 162, 179, 162, 160, 138, 159, 181, 161, 170, 143, 162, 170, 169, 152, 149, 172, 174, 155, 162, 170, 175, 151, 131, 148, 162, 182, 153, 142, 133, 122, 165, 125, 105, 162, 179, 165, 132, 192, 148, 173, 151, 122, 147, 154, 122, 172, 140, 180, 188, 162, 173, 179, 178, 156, 152, 151, 139, 169, 171, 111, 172, 168, 150, 144, 160, 175, 163], \"type\": \"histogram\", \"uid\": \"a1bb8787-82b5-46f4-83be-ea349a88362a\"}], {\"title\": \"Heart Disease Present by Max Heart Rate Achieved\", \"xaxis\": {\"title\": \"Max Rate Heart Achieved\"}, \"yaxis\": {\"title\": \"Count\"}}, {\"showLink\": true, \"linkText\": \"Export to plot.ly\", \"plotlyServerURL\": \"https://plot.ly\"})});</script><script type=\"text/javascript\">window.addEventListener(\"resize\", function(){window._Plotly.Plots.resize(document.getElementById(\"b67a5d24-aa3a-4e53-b5ed-536afd8084da\"));});</script>"
      ],
      "text/vnd.plotly.v1+html": [
       "<div id=\"b67a5d24-aa3a-4e53-b5ed-536afd8084da\" style=\"height: 525px; width: 100%;\" class=\"plotly-graph-div\"></div><script type=\"text/javascript\">require([\"plotly\"], function(Plotly) { window.PLOTLYENV=window.PLOTLYENV || {};window.PLOTLYENV.BASE_URL=\"https://plot.ly\";Plotly.newPlot(\"b67a5d24-aa3a-4e53-b5ed-536afd8084da\", [{\"name\": \"heart disease present\", \"x\": [162, 181, 157, 112, 140, 158, 182, 126, 144, 152, 155, 114, 155, 165, 161, 141, 103, 120, 132, 142, 169, 126, 99, 177, 142, 103, 156, 109, 139, 134, 165, 109, 142, 147, 113, 168, 130, 126, 162, 125, 170, 132, 142, 145, 166, 122, 150, 158, 132, 106, 174, 108, 125, 96, 173, 171, 150, 154, 111, 114, 131, 145, 152, 150, 130, 153, 97, 125, 132, 160, 145, 147, 144, 111, 132, 140, 173, 163, 117, 131], \"type\": \"histogram\", \"uid\": \"b8d702e9-66c7-4723-a7a8-227ee946a5d1\"}, {\"name\": \"no heart disease\", \"x\": [170, 158, 145, 150, 158, 151, 178, 152, 175, 202, 162, 147, 142, 138, 143, 115, 159, 184, 123, 168, 154, 186, 173, 163, 121, 137, 172, 130, 157, 167, 166, 125, 172, 162, 179, 162, 160, 138, 159, 181, 161, 170, 143, 162, 170, 169, 152, 149, 172, 174, 155, 162, 170, 175, 151, 131, 148, 162, 182, 153, 142, 133, 122, 165, 125, 105, 162, 179, 165, 132, 192, 148, 173, 151, 122, 147, 154, 122, 172, 140, 180, 188, 162, 173, 179, 178, 156, 152, 151, 139, 169, 171, 111, 172, 168, 150, 144, 160, 175, 163], \"type\": \"histogram\", \"uid\": \"a1bb8787-82b5-46f4-83be-ea349a88362a\"}], {\"title\": \"Heart Disease Present by Max Heart Rate Achieved\", \"xaxis\": {\"title\": \"Max Rate Heart Achieved\"}, \"yaxis\": {\"title\": \"Count\"}}, {\"showLink\": true, \"linkText\": \"Export to plot.ly\", \"plotlyServerURL\": \"https://plot.ly\"})});</script><script type=\"text/javascript\">window.addEventListener(\"resize\", function(){window._Plotly.Plots.resize(document.getElementById(\"b67a5d24-aa3a-4e53-b5ed-536afd8084da\"));});</script>"
      ]
     },
     "metadata": {},
     "output_type": "display_data"
    }
   ],
   "source": [
    "from plotly.offline import download_plotlyjs, init_notebook_mode, plot, iplot\n",
    "init_notebook_mode(connected=True)\n",
    "import plotly.plotly as py\n",
    "import plotly.graph_objs as go\n",
    "\n",
    "x1=heart_disease_present.max_heart_rate_achieved \n",
    "x2=no_heart_disease.max_heart_rate_achieved\n",
    "\n",
    "chart1 =go.Histogram(\n",
    "    x=x1, \n",
    "    name='heart disease present')\n",
    "\n",
    "chart2 =go.Histogram(x=x2, \n",
    "                     name='no heart disease')\n",
    "\n",
    "data  = [chart1, chart2]\n",
    "layout = go.Layout(\n",
    "    title='Heart Disease Present by Max Heart Rate Achieved',\n",
    "    xaxis=dict(\n",
    "        title='Max Rate Heart Achieved'\n",
    "    ),\n",
    "    yaxis=dict(\n",
    "        title='Count'\n",
    "    ),\n",
    ")\n",
    "\n",
    "fig = go.Figure(data=data, layout=layout)\n",
    "iplot(fig, filename='basic histogram')"
   ]
  },
  {
   "cell_type": "code",
   "execution_count": 35,
   "metadata": {},
   "outputs": [
    {
     "data": {
      "text/html": [
       "<script type=\"text/javascript\">window.PlotlyConfig = {MathJaxConfig: 'local'};</script><script type=\"text/javascript\">if (window.MathJax) {MathJax.Hub.Config({SVG: {font: \"STIX-Web\"}});}</script><script>requirejs.config({paths: { 'plotly': ['https://cdn.plot.ly/plotly-latest.min']},});if(!window._Plotly) {require(['plotly'],function(plotly) {window._Plotly=plotly;});}</script>"
      ],
      "text/vnd.plotly.v1+html": [
       "<script type=\"text/javascript\">window.PlotlyConfig = {MathJaxConfig: 'local'};</script><script type=\"text/javascript\">if (window.MathJax) {MathJax.Hub.Config({SVG: {font: \"STIX-Web\"}});}</script><script>requirejs.config({paths: { 'plotly': ['https://cdn.plot.ly/plotly-latest.min']},});if(!window._Plotly) {require(['plotly'],function(plotly) {window._Plotly=plotly;});}</script>"
      ]
     },
     "metadata": {},
     "output_type": "display_data"
    },
    {
     "data": {
      "application/vnd.plotly.v1+json": {
       "config": {
        "linkText": "Export to plot.ly",
        "plotlyServerURL": "https://plot.ly",
        "showLink": true
       },
       "data": [
        {
         "name": "Heart Disease Present",
         "opacity": 0.75,
         "type": "histogram",
         "uid": "70d5d644-7cdc-4f5e-80bc-616068032a93",
         "x": [
          77,
          40,
          60,
          57,
          59,
          64,
          38,
          50,
          60,
          58,
          60,
          65,
          53,
          58,
          52,
          57,
          62,
          46,
          63,
          56,
          61,
          54,
          62,
          44,
          51,
          56,
          35,
          70,
          49,
          59,
          66,
          54,
          60,
          63,
          54,
          48,
          58,
          49,
          59,
          67,
          60,
          64,
          59,
          55,
          48,
          51,
          68,
          41,
          55,
          62,
          65,
          67,
          70,
          64,
          58,
          58,
          48,
          62,
          55,
          40,
          58,
          61,
          47,
          57,
          35,
          44,
          62,
          59,
          60,
          60,
          62,
          45,
          46,
          58,
          66,
          39,
          51,
          67,
          55,
          64
         ]
        },
        {
         "name": "No Heart Disease Present",
         "opacity": 0.75,
         "type": "histogram",
         "uid": "630bf4c1-08ec-462c-ba11-e6e5f6caab06",
         "x": [
          45,
          54,
          59,
          42,
          50,
          66,
          42,
          45,
          45,
          29,
          71,
          52,
          67,
          66,
          70,
          68,
          57,
          52,
          51,
          41,
          64,
          48,
          57,
          62,
          74,
          61,
          63,
          71,
          65,
          54,
          51,
          71,
          46,
          43,
          44,
          42,
          67,
          45,
          50,
          43,
          55,
          44,
          47,
          52,
          37,
          52,
          53,
          51,
          41,
          57,
          55,
          49,
          54,
          44,
          68,
          69,
          65,
          58,
          39,
          56,
          51,
          64,
          64,
          54,
          51,
          64,
          50,
          41,
          58,
          41,
          34,
          57,
          53,
          65,
          42,
          54,
          51,
          58,
          41,
          65,
          44,
          44,
          56,
          44,
          63,
          40,
          54,
          54,
          69,
          48,
          44,
          49,
          53,
          67,
          57,
          63,
          64,
          54,
          48,
          54
         ]
        }
       ],
       "layout": {
        "barmode": "overlay",
        "title": "Heart Disease Present by Age",
        "xaxis": {
         "title": "Age"
        },
        "yaxis": {
         "title": "Count"
        }
       }
      },
      "text/html": [
       "<div id=\"3951229a-e39c-4c17-918a-a54f1d3230c6\" style=\"height: 525px; width: 100%;\" class=\"plotly-graph-div\"></div><script type=\"text/javascript\">require([\"plotly\"], function(Plotly) { window.PLOTLYENV=window.PLOTLYENV || {};window.PLOTLYENV.BASE_URL=\"https://plot.ly\";Plotly.newPlot(\"3951229a-e39c-4c17-918a-a54f1d3230c6\", [{\"name\": \"Heart Disease Present\", \"opacity\": 0.75, \"x\": [77, 40, 60, 57, 59, 64, 38, 50, 60, 58, 60, 65, 53, 58, 52, 57, 62, 46, 63, 56, 61, 54, 62, 44, 51, 56, 35, 70, 49, 59, 66, 54, 60, 63, 54, 48, 58, 49, 59, 67, 60, 64, 59, 55, 48, 51, 68, 41, 55, 62, 65, 67, 70, 64, 58, 58, 48, 62, 55, 40, 58, 61, 47, 57, 35, 44, 62, 59, 60, 60, 62, 45, 46, 58, 66, 39, 51, 67, 55, 64], \"type\": \"histogram\", \"uid\": \"70d5d644-7cdc-4f5e-80bc-616068032a93\"}, {\"name\": \"No Heart Disease Present\", \"opacity\": 0.75, \"x\": [45, 54, 59, 42, 50, 66, 42, 45, 45, 29, 71, 52, 67, 66, 70, 68, 57, 52, 51, 41, 64, 48, 57, 62, 74, 61, 63, 71, 65, 54, 51, 71, 46, 43, 44, 42, 67, 45, 50, 43, 55, 44, 47, 52, 37, 52, 53, 51, 41, 57, 55, 49, 54, 44, 68, 69, 65, 58, 39, 56, 51, 64, 64, 54, 51, 64, 50, 41, 58, 41, 34, 57, 53, 65, 42, 54, 51, 58, 41, 65, 44, 44, 56, 44, 63, 40, 54, 54, 69, 48, 44, 49, 53, 67, 57, 63, 64, 54, 48, 54], \"type\": \"histogram\", \"uid\": \"630bf4c1-08ec-462c-ba11-e6e5f6caab06\"}], {\"barmode\": \"overlay\", \"title\": \"Heart Disease Present by Age\", \"xaxis\": {\"title\": \"Age\"}, \"yaxis\": {\"title\": \"Count\"}}, {\"showLink\": true, \"linkText\": \"Export to plot.ly\", \"plotlyServerURL\": \"https://plot.ly\"})});</script><script type=\"text/javascript\">window.addEventListener(\"resize\", function(){window._Plotly.Plots.resize(document.getElementById(\"3951229a-e39c-4c17-918a-a54f1d3230c6\"));});</script>"
      ],
      "text/vnd.plotly.v1+html": [
       "<div id=\"3951229a-e39c-4c17-918a-a54f1d3230c6\" style=\"height: 525px; width: 100%;\" class=\"plotly-graph-div\"></div><script type=\"text/javascript\">require([\"plotly\"], function(Plotly) { window.PLOTLYENV=window.PLOTLYENV || {};window.PLOTLYENV.BASE_URL=\"https://plot.ly\";Plotly.newPlot(\"3951229a-e39c-4c17-918a-a54f1d3230c6\", [{\"name\": \"Heart Disease Present\", \"opacity\": 0.75, \"x\": [77, 40, 60, 57, 59, 64, 38, 50, 60, 58, 60, 65, 53, 58, 52, 57, 62, 46, 63, 56, 61, 54, 62, 44, 51, 56, 35, 70, 49, 59, 66, 54, 60, 63, 54, 48, 58, 49, 59, 67, 60, 64, 59, 55, 48, 51, 68, 41, 55, 62, 65, 67, 70, 64, 58, 58, 48, 62, 55, 40, 58, 61, 47, 57, 35, 44, 62, 59, 60, 60, 62, 45, 46, 58, 66, 39, 51, 67, 55, 64], \"type\": \"histogram\", \"uid\": \"70d5d644-7cdc-4f5e-80bc-616068032a93\"}, {\"name\": \"No Heart Disease Present\", \"opacity\": 0.75, \"x\": [45, 54, 59, 42, 50, 66, 42, 45, 45, 29, 71, 52, 67, 66, 70, 68, 57, 52, 51, 41, 64, 48, 57, 62, 74, 61, 63, 71, 65, 54, 51, 71, 46, 43, 44, 42, 67, 45, 50, 43, 55, 44, 47, 52, 37, 52, 53, 51, 41, 57, 55, 49, 54, 44, 68, 69, 65, 58, 39, 56, 51, 64, 64, 54, 51, 64, 50, 41, 58, 41, 34, 57, 53, 65, 42, 54, 51, 58, 41, 65, 44, 44, 56, 44, 63, 40, 54, 54, 69, 48, 44, 49, 53, 67, 57, 63, 64, 54, 48, 54], \"type\": \"histogram\", \"uid\": \"630bf4c1-08ec-462c-ba11-e6e5f6caab06\"}], {\"barmode\": \"overlay\", \"title\": \"Heart Disease Present by Age\", \"xaxis\": {\"title\": \"Age\"}, \"yaxis\": {\"title\": \"Count\"}}, {\"showLink\": true, \"linkText\": \"Export to plot.ly\", \"plotlyServerURL\": \"https://plot.ly\"})});</script><script type=\"text/javascript\">window.addEventListener(\"resize\", function(){window._Plotly.Plots.resize(document.getElementById(\"3951229a-e39c-4c17-918a-a54f1d3230c6\"));});</script>"
      ]
     },
     "metadata": {},
     "output_type": "display_data"
    }
   ],
   "source": [
    "import plotly.plotly as py\n",
    "from plotly.offline import download_plotlyjs, init_notebook_mode, plot, iplot\n",
    "init_notebook_mode(connected=True)\n",
    "import plotly\n",
    "import plotly.graph_objs as go\n",
    "import numpy as np\n",
    "\n",
    "x1=heart_disease_present.age\n",
    "x2=no_heart_disease.age\n",
    "trace1 = go.Histogram(\n",
    "    x=x1,\n",
    "    name='Heart Disease Present',\n",
    "    opacity=0.75\n",
    ")\n",
    "trace2 = go.Histogram(\n",
    "    x=x2,\n",
    "    name='No Heart Disease Present',\n",
    "    opacity=0.75\n",
    ")\n",
    "\n",
    "data = [trace1, trace2]\n",
    "layout = go.Layout(\n",
    "    title='Heart Disease Present by Age',\n",
    "    xaxis=dict(\n",
    "        title='Age'\n",
    "    ),\n",
    "    yaxis=dict(\n",
    "        title='Count'\n",
    "    ),\n",
    "    barmode='overlay'\n",
    ")\n",
    "\n",
    "fig = go.Figure(data=data, layout=layout)\n",
    "\n",
    "iplot(fig, filename='overlaid histogram')\n"
   ]
  },
  {
   "cell_type": "code",
   "execution_count": 36,
   "metadata": {},
   "outputs": [],
   "source": [
    "# for preprocessing the data\n",
    "from sklearn.preprocessing import StandardScaler\n",
    "\n",
    "# the model\n",
    "from sklearn.linear_model import LogisticRegression\n",
    "\n",
    "# for combining the preprocess with model training\n",
    "from sklearn.pipeline import Pipeline\n",
    "\n",
    "# for optimizing parameters of the pipeline\n",
    "from sklearn.model_selection import GridSearchCV\n",
    "\n",
    "\n"
   ]
  },
  {
   "cell_type": "markdown",
   "metadata": {},
   "source": [
    "## Scale Data"
   ]
  },
  {
   "cell_type": "code",
   "execution_count": null,
   "metadata": {},
   "outputs": [],
   "source": [
    "scaler = MinMaxScaler()\n",
    "test_df = scaler.fit_transform(test_values)\n",
    "train_values = scaler.fit_transform(train_values)\n",
    "\n",
    "train_features, test_features, train_outcome, test_outcome = train_test_split(\n",
    "    train_values,\n",
    "    train_labels['heart_disease_present'],\n",
    "    test_size = 0.3,\n",
    "    random_state = 11\n",
    ")"
   ]
  },
  {
   "cell_type": "markdown",
   "metadata": {},
   "source": [
    "### Random Forest"
   ]
  },
  {
   "cell_type": "markdown",
   "metadata": {},
   "source": [
    "With random forest regressor, using feature selection of variance threshold and select threshold, the results were submitted to drivendata. Drivendata uses the log loss to calculate its score. Random forest gave a log loss of 0.54774. This is still below our model using logistic regression."
   ]
  },
  {
   "cell_type": "code",
   "execution_count": 61,
   "metadata": {},
   "outputs": [],
   "source": [
    "# Random Forest Regressor\n",
    "rfr_reg = RandomForestRegressor()\n",
    "from sklearn.feature_selection import SelectPercentile\n",
    "from sklearn.feature_selection import VarianceThreshold\n",
    "selecter = SelectPercentile()\n",
    "threshold = VarianceThreshold(.1)\n",
    "\n",
    "# make pipeline\n",
    "pipe = make_pipeline(threshold, scaler, selecter, rfr_reg)\n",
    "\n",
    "# set parameters\n",
    "params = {\"randomforestregressor__n_estimators\": range(1,20),\n",
    "         'selectpercentile__percentile':range(10, 30, 3),\n",
    "}\n",
    "\n",
    "#perform grid search\n",
    "grid_search = GridSearchCV(pipe, param_grid=params)\n",
    "grid_search.fit(train_values, train_labels['heart_disease_present'])\n",
    "grid_search.cv_results_['params'][grid_search.best_index_]\n",
    "\n",
    "# grid search fit to training data\n",
    "pred_train = grid_search.fit(train_features, train_outcome).predict(test_features)"
   ]
  },
  {
   "cell_type": "code",
   "execution_count": 38,
   "metadata": {},
   "outputs": [],
   "source": [
    "# grid search fit to entire dataset\n",
    "preds = grid_search.fit(train_values, train_labels['heart_disease_present']).predict(train_values)"
   ]
  },
  {
   "cell_type": "code",
   "execution_count": 39,
   "metadata": {},
   "outputs": [],
   "source": [
    "# print results to csv\n",
    "submission_format = submission_format.drop(['heart_disease_present'], axis = 1)\n",
    "submission_format['heart_disease_present'] = pd.Series(preds)\n",
    "submission_format.to_csv('random_forest_submission.csv',index=False)"
   ]
  },
  {
   "cell_type": "markdown",
   "metadata": {},
   "source": [
    "### KNN Regressor"
   ]
  },
  {
   "cell_type": "code",
   "execution_count": 40,
   "metadata": {},
   "outputs": [
    {
     "name": "stderr",
     "output_type": "stream",
     "text": [
      "/anaconda/lib/python3.6/site-packages/sklearn/model_selection/_search.py:841: DeprecationWarning:\n",
      "\n",
      "The default of the `iid` parameter will change from True to False in version 0.22 and will be removed in 0.24. This will change numeric results when test-set sizes are unequal.\n",
      "\n"
     ]
    },
    {
     "data": {
      "text/plain": [
       "{'n_neighbors': 9, 'weights': 'uniform'}"
      ]
     },
     "execution_count": 40,
     "metadata": {},
     "output_type": "execute_result"
    }
   ],
   "source": [
    "# Peform Grid Search\n",
    "params = {\"n_neighbors\": range(1, 40), \"weights\":[\"uniform\", \"distance\"]}\n",
    "folds = KFold(n_splits = 10, shuffle=True)\n",
    "grid_search = GridSearchCV(KNeighborsRegressor(), param_grid=params, cv = folds, return_train_score=True)\n",
    "grid_search.fit(train_features, train_outcome)\n",
    "grid_search.best_params_"
   ]
  },
  {
   "cell_type": "code",
   "execution_count": 42,
   "metadata": {},
   "outputs": [
    {
     "data": {
      "text/plain": [
       "array([0.        , 0.        , 0.7457516 , 0.44156566, 0.        ,\n",
       "       0.30425025, 0.22692818, 1.        , 0.51622051, 0.50195129,\n",
       "       0.        , 0.80091064, 0.2971867 , 0.47553239, 0.        ,\n",
       "       0.49374955, 1.        , 0.8156642 , 1.        , 0.23618368,\n",
       "       0.30374805, 0.30283704, 1.        , 0.        , 0.        ,\n",
       "       0.        , 0.23084918, 0.        , 0.2491859 , 1.        ,\n",
       "       0.74479283, 0.        , 0.        , 0.63190453, 0.        ,\n",
       "       1.        , 0.74022738, 0.        , 0.75345216, 0.21037925,\n",
       "       0.49210332, 0.71344389, 0.77769355, 0.32433686, 0.76127652,\n",
       "       0.75801542, 0.17834717, 0.48171902, 1.        , 0.75639268,\n",
       "       0.69306642, 1.        , 0.        , 0.        ])"
      ]
     },
     "execution_count": 42,
     "metadata": {},
     "output_type": "execute_result"
    }
   ],
   "source": [
    "# KNN with best params from grid search\n",
    "best_knn =  KNeighborsRegressor(n_neighbors = 4, weights='distance')\n",
    "knn_preds = best_knn.fit(train_features, train_outcome).predict(test_features)\n",
    "knn_preds"
   ]
  },
  {
   "cell_type": "code",
   "execution_count": 43,
   "metadata": {},
   "outputs": [],
   "source": [
    "# fit model with all data\n",
    "knn_clf_full = best_knn.fit(train_values_subset, train_labels['heart_disease_present'])\n",
    "\n",
    "test_values_subset = test_values[selected_features]\n",
    "\n",
    "knn_pred = knn_clf_full.predict(test_values_subset)\n",
    "\n",
    "# print to submission format\n",
    "submission_format['heart_disease_present'] = pd.Series(knn_pred, dtype=np.float64)\n",
    "submission_format.to_csv('VanessaSubmission.csv',index=False)"
   ]
  },
  {
   "cell_type": "markdown",
   "metadata": {},
   "source": [
    "### Logistic Regression"
   ]
  },
  {
   "cell_type": "code",
   "execution_count": 44,
   "metadata": {},
   "outputs": [
    {
     "data": {
      "text/plain": [
       "Pipeline(memory=None,\n",
       "     steps=[('scale', StandardScaler(copy=True, with_mean=True, with_std=True)), ('logistic', LogisticRegression(C=1.0, class_weight=None, dual=False, fit_intercept=True,\n",
       "          intercept_scaling=1, max_iter=100, multi_class='warn',\n",
       "          n_jobs=None, penalty='l2', random_state=None, solver='warn',\n",
       "          tol=0.0001, verbose=0, warm_start=False))])"
      ]
     },
     "execution_count": 44,
     "metadata": {},
     "output_type": "execute_result"
    }
   ],
   "source": [
    "pipe = Pipeline(steps=[('scale', StandardScaler()), \n",
    "                       ('logistic', LogisticRegression())])\n",
    "pipe"
   ]
  },
  {
   "cell_type": "code",
   "execution_count": 45,
   "metadata": {},
   "outputs": [
    {
     "name": "stderr",
     "output_type": "stream",
     "text": [
      "/anaconda/lib/python3.6/site-packages/sklearn/model_selection/_search.py:841: DeprecationWarning:\n",
      "\n",
      "The default of the `iid` parameter will change from True to False in version 0.22 and will be removed in 0.24. This will change numeric results when test-set sizes are unequal.\n",
      "\n"
     ]
    },
    {
     "data": {
      "text/plain": [
       "{'logistic__C': 1, 'logistic__penalty': 'l2'}"
      ]
     },
     "execution_count": 45,
     "metadata": {},
     "output_type": "execute_result"
    }
   ],
   "source": [
    "param_grid = {'logistic__C': [1], \n",
    "              'logistic__penalty': ['l2']}\n",
    "gs = GridSearchCV(estimator=pipe, \n",
    "                  param_grid=param_grid, \n",
    "                  cv=100)\n",
    "gs.fit(train_values_subset, train_labels.heart_disease_present)\n",
    "gs.best_params_"
   ]
  },
  {
   "cell_type": "code",
   "execution_count": 46,
   "metadata": {},
   "outputs": [],
   "source": [
    "test_values = pd.read_csv('./data/test_values.csv', index_col='patient_id')\n",
    "test_values_subset = test_values[selected_features]\n",
    "predictions = gs.predict_proba(test_values_subset)[:, 1]\n",
    "submission_format = pd.read_csv('./data/submission_format.csv', index_col='patient_id')\n",
    "my_submission = pd.DataFrame(data=predictions,\n",
    "                             columns=submission_format.columns,\n",
    "                             index=submission_format.index)\n",
    "my_submission.to_csv('log_submission.csv')\n"
   ]
  },
  {
   "cell_type": "markdown",
   "metadata": {},
   "source": [
    "### MLP Regressor"
   ]
  },
  {
   "cell_type": "code",
   "execution_count": 47,
   "metadata": {},
   "outputs": [
    {
     "name": "stdout",
     "output_type": "stream",
     "text": [
      "Fitting 10 folds for each of 3 candidates, totalling 30 fits\n"
     ]
    },
    {
     "name": "stderr",
     "output_type": "stream",
     "text": [
      "[Parallel(n_jobs=-1)]: Using backend LokyBackend with 4 concurrent workers.\n",
      "[Parallel(n_jobs=-1)]: Done  30 out of  30 | elapsed:   10.5s finished\n",
      "/anaconda/lib/python3.6/site-packages/sklearn/model_selection/_search.py:841: DeprecationWarning:\n",
      "\n",
      "The default of the `iid` parameter will change from True to False in version 0.22 and will be removed in 0.24. This will change numeric results when test-set sizes are unequal.\n",
      "\n"
     ]
    },
    {
     "data": {
      "text/plain": [
       "-0.16635529978877472"
      ]
     },
     "execution_count": 47,
     "metadata": {},
     "output_type": "execute_result"
    }
   ],
   "source": [
    "clf = MLPRegressor(solver='lbfgs')\n",
    "\n",
    "pipe = make_pipeline(scaler, clf)\n",
    "\n",
    "params = {'learning_rate': [\"constant\", \"invscaling\", \"adaptive\"]}\n",
    "\n",
    "gs = GridSearchCV(clf, param_grid=params, n_jobs=-1, verbose=2, cv=10)\n",
    "\n",
    "gs.fit(train_features, train_outcome)\n",
    "gs.score(test_features, test_outcome)"
   ]
  },
  {
   "cell_type": "code",
   "execution_count": 48,
   "metadata": {},
   "outputs": [
    {
     "name": "stdout",
     "output_type": "stream",
     "text": [
      "Fitting 10 folds for each of 3 candidates, totalling 30 fits\n"
     ]
    },
    {
     "name": "stderr",
     "output_type": "stream",
     "text": [
      "[Parallel(n_jobs=-1)]: Using backend LokyBackend with 4 concurrent workers.\n",
      "[Parallel(n_jobs=-1)]: Done  30 out of  30 | elapsed:    5.2s finished\n",
      "/anaconda/lib/python3.6/site-packages/sklearn/model_selection/_search.py:841: DeprecationWarning:\n",
      "\n",
      "The default of the `iid` parameter will change from True to False in version 0.22 and will be removed in 0.24. This will change numeric results when test-set sizes are unequal.\n",
      "\n"
     ]
    },
    {
     "name": "stdout",
     "output_type": "stream",
     "text": [
      "Fitting 10 folds for each of 3 candidates, totalling 30 fits\n"
     ]
    },
    {
     "name": "stderr",
     "output_type": "stream",
     "text": [
      "[Parallel(n_jobs=-1)]: Using backend LokyBackend with 4 concurrent workers.\n",
      "[Parallel(n_jobs=-1)]: Done  30 out of  30 | elapsed:    6.3s finished\n"
     ]
    }
   ],
   "source": [
    "pred = gs.fit(train_features, train_outcome).predict(test_features).astype(np.float64)\n",
    "pred2 = gs.fit(train_values, train_labels['heart_disease_present']).predict(train_values).astype(np.float64)"
   ]
  },
  {
   "cell_type": "code",
   "execution_count": 49,
   "metadata": {},
   "outputs": [],
   "source": [
    "submission_format = pd.read_csv('data/submission_format.csv')\n",
    "submission_format = submission_format.drop(['heart_disease_present'], axis = 1)\n",
    "submission_format['heart_disease_present'] = pd.Series(predictions)\n",
    "submission_format.to_csv('test_regressor.csv',index=False)"
   ]
  },
  {
   "cell_type": "code",
   "execution_count": 57,
   "metadata": {},
   "outputs": [
    {
     "data": {
      "application/vnd.plotly.v1+json": {
       "config": {
        "linkText": "Export to plot.ly",
        "plotlyServerURL": "https://plot.ly",
        "showLink": true
       },
       "data": [
        {
         "marker": {
          "color": "#4da6ff",
          "line": {
           "width": 1
          },
          "size": 10
         },
         "mode": "markers",
         "name": "1",
         "type": "scatter",
         "uid": "d7e2be4c-7e7f-4eda-8c6e-197a574b9da7",
         "x": [
          77,
          40,
          60,
          57,
          59,
          64,
          38,
          50,
          60,
          58,
          60,
          65,
          53,
          58,
          52,
          57,
          62,
          46,
          63,
          56,
          61,
          54,
          62,
          44,
          51,
          56,
          35,
          70,
          49,
          59,
          66,
          54,
          60,
          63,
          54,
          48,
          58,
          49,
          59,
          67,
          60,
          64,
          59,
          55,
          48,
          51,
          68,
          41,
          55,
          62,
          65,
          67,
          70,
          64,
          58,
          58,
          48,
          62,
          55,
          40,
          58,
          61,
          47,
          57,
          35,
          44,
          62,
          59,
          60,
          60,
          62,
          45,
          46,
          58,
          66,
          39,
          51,
          67,
          55,
          64
         ],
         "y": [
          1.0016377668500824,
          1.0386078012239999,
          0.9910205551799596,
          0.9601470051925625,
          1.0355757749784131,
          0.9916066325381852,
          0.9944105555428967,
          0.9791430990030632,
          1.0499030721030587,
          1.0294212302802959,
          1.0268810628409346,
          1.0092916475759046,
          0.9904329788864332,
          1.0536937588297852,
          1.0425820155067862,
          0.9913470931997224,
          1.0265776197123624,
          1.0161573757962294,
          0.9494360148275818,
          0.9760155464683564,
          0.7945153877358744,
          1.0477986379702247,
          0.9556537864238619,
          1.0289969444958595,
          0.9955434855978471,
          0.9857832216522167,
          0.9693462319469635,
          1.038040479091486,
          1.0063273403434194,
          0.9903868984815967,
          1.0199510072510443,
          1.024703162266854,
          0.9782793848264019,
          1.0000766774258198,
          0.9638753362431829,
          0.9722193905316232,
          1.0164975464239965,
          1.0338505043253834,
          0.9664047734978567,
          1.030972088557662,
          1.001836860955121,
          0.992921870653705,
          1.0184152700335656,
          1.0431650533992283,
          1.0106937253700483,
          0.9805015893161614,
          1.009538841538449,
          0.9834844726808897,
          0.8359627099029656,
          1.0156442112974662,
          1.0259984038948315,
          1.0393038964590764,
          0.9812603604423726,
          0.9765237171003018,
          1.0119830674578412,
          0.9890700211605434,
          1.0036088929211784,
          0.9697093651940524,
          0.9841516481487986,
          0.9893438042879534,
          1.0025202013583732,
          1.0063875746713398,
          0.6766286271515128,
          0.9285597804272773,
          0.9825046142170458,
          1.0082606783123604,
          1.041133023958551,
          1.0151692025961525,
          0.9338279291916372,
          1.012991110589069,
          1.0072955042561542,
          0.9889348295702718,
          1.0027474759286048,
          0.8640500594004259,
          1.0077709935231074,
          1.0104263001642018,
          1.0236106081291116,
          1.0009492758173226,
          0.9826118814160913,
          1.0088017508705587
         ]
        },
        {
         "marker": {
          "color": "#ff8080",
          "line": {
           "width": 1
          },
          "size": 10
         },
         "mode": "markers",
         "name": "0",
         "type": "scatter",
         "uid": "27ec4f30-8250-4fc2-bfb7-6790d74b3480",
         "x": [
          45,
          54,
          59,
          42,
          50,
          66,
          42,
          45,
          45,
          29,
          71,
          52,
          67,
          66,
          70,
          68,
          57,
          52,
          51,
          41,
          64,
          48,
          57,
          62,
          74,
          61,
          63,
          71,
          65,
          54,
          51,
          71,
          46,
          43,
          44,
          42,
          67,
          45,
          50,
          43,
          55,
          44,
          47,
          52,
          37,
          52,
          53,
          51,
          41,
          57,
          55,
          49,
          54,
          44,
          68,
          69,
          65,
          58,
          39,
          56,
          51,
          64,
          64,
          54,
          51,
          64,
          50,
          41,
          58,
          41,
          34,
          57,
          53,
          65,
          42,
          54,
          51,
          58,
          41,
          65,
          44,
          44,
          56,
          44,
          63,
          40,
          54,
          54,
          69,
          48,
          44,
          49,
          53,
          67,
          57,
          63,
          64,
          54,
          48,
          54
         ],
         "y": [
          0.015099030203807873,
          0.017753427980229053,
          0.012289147711879389,
          -0.05036059591151221,
          -0.027734527029961376,
          0.02400820472563958,
          0.005832845197629388,
          -0.0005594850632153481,
          0.0007170147144224259,
          0.012836957467982413,
          -0.04956722720022033,
          -0.02567645096986304,
          -0.0065094924713215985,
          -0.007386164802483108,
          0.0020198285891462886,
          0.0002693271448904744,
          0.17504697554002213,
          0.010632910225124581,
          0.09297410007028217,
          0.01155908070352396,
          -0.037593288763420496,
          0.032519961070772374,
          -0.00400506518765853,
          -0.020537299569705514,
          0.0179007683989294,
          0.013025260375408632,
          -0.02130719350916288,
          -0.009392158018665553,
          0.01204548577037845,
          0.008959737141002844,
          0.00369592922039641,
          0.003909250622890603,
          0.019905199915490224,
          0.035570101418097466,
          0.0014534631126275066,
          -0.042345491894281606,
          0.013627494584580457,
          -0.023966752028629523,
          0.11613099101987934,
          0.004698205918223897,
          0.05133683286625079,
          -0.04820478852481269,
          -0.06630591726319146,
          0.004979213243922032,
          0.0040010413903646125,
          -0.008148113680226166,
          -0.008088973384348108,
          0.04945833528369237,
          -0.008618826548710379,
          -0.1154657210369423,
          0.19318765471024096,
          -0.048608945496595224,
          -0.0023378146323185245,
          -0.004799376861324367,
          0.003206711552020458,
          -0.013002233325612234,
          0.038139827609391386,
          0.00831100293903475,
          -0.028995998713909676,
          -0.026271227079128434,
          -0.11857754572738877,
          -0.029317613949785493,
          -0.011505146962070167,
          0.006839345856493817,
          0.031955507931127336,
          0.0589687866953259,
          -0.04624809192627832,
          0.17013519256653886,
          0.009589710962937925,
          0.007765369055382831,
          -0.004102510624347744,
          0.09296154365751996,
          -0.005443153886295793,
          0.1267655816270985,
          -0.010605819632865887,
          0.0005421854976059848,
          -0.006683601190445643,
          0.005759554236338449,
          0.028610095787963585,
          -0.024403024870688572,
          -0.010611000759360056,
          0.007680227080436808,
          -0.03860633477714359,
          -0.07676983451727093,
          0.016719446004618055,
          -0.0020960538087129166,
          0.06065397011540735,
          0.02008259410984592,
          0.024149457330909785,
          -0.002086805173868056,
          0.1770443685720905,
          -0.09192234190721138,
          0.11003535081426574,
          0.028930435338697214,
          -0.030148969485961574,
          -0.010521304941408571,
          -0.03463413077036459,
          0.08026104072723128,
          -0.012653828572151138,
          -0.006245039434316535
         ]
        }
       ],
       "layout": {
        "hovermode": "closest",
        "title": "Age v Predicted Probability of Heart Disease",
        "xaxis": {
         "title": "Age"
        },
        "yaxis": {
         "title": "Predicted Probability of Heart Disease"
        }
       }
      },
      "text/html": [
       "<div id=\"533c5c5b-3ff6-45ea-bcd7-caf9aca01c94\" style=\"height: 525px; width: 100%;\" class=\"plotly-graph-div\"></div><script type=\"text/javascript\">require([\"plotly\"], function(Plotly) { window.PLOTLYENV=window.PLOTLYENV || {};window.PLOTLYENV.BASE_URL=\"https://plot.ly\";Plotly.newPlot(\"533c5c5b-3ff6-45ea-bcd7-caf9aca01c94\", [{\"marker\": {\"color\": \"#4da6ff\", \"line\": {\"width\": 1}, \"size\": 10}, \"mode\": \"markers\", \"name\": \"1\", \"x\": [77, 40, 60, 57, 59, 64, 38, 50, 60, 58, 60, 65, 53, 58, 52, 57, 62, 46, 63, 56, 61, 54, 62, 44, 51, 56, 35, 70, 49, 59, 66, 54, 60, 63, 54, 48, 58, 49, 59, 67, 60, 64, 59, 55, 48, 51, 68, 41, 55, 62, 65, 67, 70, 64, 58, 58, 48, 62, 55, 40, 58, 61, 47, 57, 35, 44, 62, 59, 60, 60, 62, 45, 46, 58, 66, 39, 51, 67, 55, 64], \"y\": [1.0016377668500824, 1.0386078012239999, 0.9910205551799596, 0.9601470051925625, 1.0355757749784131, 0.9916066325381852, 0.9944105555428967, 0.9791430990030632, 1.0499030721030587, 1.0294212302802959, 1.0268810628409346, 1.0092916475759046, 0.9904329788864332, 1.0536937588297852, 1.0425820155067862, 0.9913470931997224, 1.0265776197123624, 1.0161573757962294, 0.9494360148275818, 0.9760155464683564, 0.7945153877358744, 1.0477986379702247, 0.9556537864238619, 1.0289969444958595, 0.9955434855978471, 0.9857832216522167, 0.9693462319469635, 1.038040479091486, 1.0063273403434194, 0.9903868984815967, 1.0199510072510443, 1.024703162266854, 0.9782793848264019, 1.0000766774258198, 0.9638753362431829, 0.9722193905316232, 1.0164975464239965, 1.0338505043253834, 0.9664047734978567, 1.030972088557662, 1.001836860955121, 0.992921870653705, 1.0184152700335656, 1.0431650533992283, 1.0106937253700483, 0.9805015893161614, 1.009538841538449, 0.9834844726808897, 0.8359627099029656, 1.0156442112974662, 1.0259984038948315, 1.0393038964590764, 0.9812603604423726, 0.9765237171003018, 1.0119830674578412, 0.9890700211605434, 1.0036088929211784, 0.9697093651940524, 0.9841516481487986, 0.9893438042879534, 1.0025202013583732, 1.0063875746713398, 0.6766286271515128, 0.9285597804272773, 0.9825046142170458, 1.0082606783123604, 1.041133023958551, 1.0151692025961525, 0.9338279291916372, 1.012991110589069, 1.0072955042561542, 0.9889348295702718, 1.0027474759286048, 0.8640500594004259, 1.0077709935231074, 1.0104263001642018, 1.0236106081291116, 1.0009492758173226, 0.9826118814160913, 1.0088017508705587], \"type\": \"scatter\", \"uid\": \"d7e2be4c-7e7f-4eda-8c6e-197a574b9da7\"}, {\"marker\": {\"color\": \"#ff8080\", \"line\": {\"width\": 1}, \"size\": 10}, \"mode\": \"markers\", \"name\": \"0\", \"x\": [45, 54, 59, 42, 50, 66, 42, 45, 45, 29, 71, 52, 67, 66, 70, 68, 57, 52, 51, 41, 64, 48, 57, 62, 74, 61, 63, 71, 65, 54, 51, 71, 46, 43, 44, 42, 67, 45, 50, 43, 55, 44, 47, 52, 37, 52, 53, 51, 41, 57, 55, 49, 54, 44, 68, 69, 65, 58, 39, 56, 51, 64, 64, 54, 51, 64, 50, 41, 58, 41, 34, 57, 53, 65, 42, 54, 51, 58, 41, 65, 44, 44, 56, 44, 63, 40, 54, 54, 69, 48, 44, 49, 53, 67, 57, 63, 64, 54, 48, 54], \"y\": [0.015099030203807873, 0.017753427980229053, 0.012289147711879389, -0.05036059591151221, -0.027734527029961376, 0.02400820472563958, 0.005832845197629388, -0.0005594850632153481, 0.0007170147144224259, 0.012836957467982413, -0.04956722720022033, -0.02567645096986304, -0.0065094924713215985, -0.007386164802483108, 0.0020198285891462886, 0.0002693271448904744, 0.17504697554002213, 0.010632910225124581, 0.09297410007028217, 0.01155908070352396, -0.037593288763420496, 0.032519961070772374, -0.00400506518765853, -0.020537299569705514, 0.0179007683989294, 0.013025260375408632, -0.02130719350916288, -0.009392158018665553, 0.01204548577037845, 0.008959737141002844, 0.00369592922039641, 0.003909250622890603, 0.019905199915490224, 0.035570101418097466, 0.0014534631126275066, -0.042345491894281606, 0.013627494584580457, -0.023966752028629523, 0.11613099101987934, 0.004698205918223897, 0.05133683286625079, -0.04820478852481269, -0.06630591726319146, 0.004979213243922032, 0.0040010413903646125, -0.008148113680226166, -0.008088973384348108, 0.04945833528369237, -0.008618826548710379, -0.1154657210369423, 0.19318765471024096, -0.048608945496595224, -0.0023378146323185245, -0.004799376861324367, 0.003206711552020458, -0.013002233325612234, 0.038139827609391386, 0.00831100293903475, -0.028995998713909676, -0.026271227079128434, -0.11857754572738877, -0.029317613949785493, -0.011505146962070167, 0.006839345856493817, 0.031955507931127336, 0.0589687866953259, -0.04624809192627832, 0.17013519256653886, 0.009589710962937925, 0.007765369055382831, -0.004102510624347744, 0.09296154365751996, -0.005443153886295793, 0.1267655816270985, -0.010605819632865887, 0.0005421854976059848, -0.006683601190445643, 0.005759554236338449, 0.028610095787963585, -0.024403024870688572, -0.010611000759360056, 0.007680227080436808, -0.03860633477714359, -0.07676983451727093, 0.016719446004618055, -0.0020960538087129166, 0.06065397011540735, 0.02008259410984592, 0.024149457330909785, -0.002086805173868056, 0.1770443685720905, -0.09192234190721138, 0.11003535081426574, 0.028930435338697214, -0.030148969485961574, -0.010521304941408571, -0.03463413077036459, 0.08026104072723128, -0.012653828572151138, -0.006245039434316535], \"type\": \"scatter\", \"uid\": \"27ec4f30-8250-4fc2-bfb7-6790d74b3480\"}], {\"hovermode\": \"closest\", \"title\": \"Age v Predicted Probability of Heart Disease\", \"xaxis\": {\"title\": \"Age\"}, \"yaxis\": {\"title\": \"Predicted Probability of Heart Disease\"}}, {\"showLink\": true, \"linkText\": \"Export to plot.ly\", \"plotlyServerURL\": \"https://plot.ly\"})});</script><script type=\"text/javascript\">window.addEventListener(\"resize\", function(){window._Plotly.Plots.resize(document.getElementById(\"533c5c5b-3ff6-45ea-bcd7-caf9aca01c94\"));});</script>"
      ],
      "text/vnd.plotly.v1+html": [
       "<div id=\"533c5c5b-3ff6-45ea-bcd7-caf9aca01c94\" style=\"height: 525px; width: 100%;\" class=\"plotly-graph-div\"></div><script type=\"text/javascript\">require([\"plotly\"], function(Plotly) { window.PLOTLYENV=window.PLOTLYENV || {};window.PLOTLYENV.BASE_URL=\"https://plot.ly\";Plotly.newPlot(\"533c5c5b-3ff6-45ea-bcd7-caf9aca01c94\", [{\"marker\": {\"color\": \"#4da6ff\", \"line\": {\"width\": 1}, \"size\": 10}, \"mode\": \"markers\", \"name\": \"1\", \"x\": [77, 40, 60, 57, 59, 64, 38, 50, 60, 58, 60, 65, 53, 58, 52, 57, 62, 46, 63, 56, 61, 54, 62, 44, 51, 56, 35, 70, 49, 59, 66, 54, 60, 63, 54, 48, 58, 49, 59, 67, 60, 64, 59, 55, 48, 51, 68, 41, 55, 62, 65, 67, 70, 64, 58, 58, 48, 62, 55, 40, 58, 61, 47, 57, 35, 44, 62, 59, 60, 60, 62, 45, 46, 58, 66, 39, 51, 67, 55, 64], \"y\": [1.0016377668500824, 1.0386078012239999, 0.9910205551799596, 0.9601470051925625, 1.0355757749784131, 0.9916066325381852, 0.9944105555428967, 0.9791430990030632, 1.0499030721030587, 1.0294212302802959, 1.0268810628409346, 1.0092916475759046, 0.9904329788864332, 1.0536937588297852, 1.0425820155067862, 0.9913470931997224, 1.0265776197123624, 1.0161573757962294, 0.9494360148275818, 0.9760155464683564, 0.7945153877358744, 1.0477986379702247, 0.9556537864238619, 1.0289969444958595, 0.9955434855978471, 0.9857832216522167, 0.9693462319469635, 1.038040479091486, 1.0063273403434194, 0.9903868984815967, 1.0199510072510443, 1.024703162266854, 0.9782793848264019, 1.0000766774258198, 0.9638753362431829, 0.9722193905316232, 1.0164975464239965, 1.0338505043253834, 0.9664047734978567, 1.030972088557662, 1.001836860955121, 0.992921870653705, 1.0184152700335656, 1.0431650533992283, 1.0106937253700483, 0.9805015893161614, 1.009538841538449, 0.9834844726808897, 0.8359627099029656, 1.0156442112974662, 1.0259984038948315, 1.0393038964590764, 0.9812603604423726, 0.9765237171003018, 1.0119830674578412, 0.9890700211605434, 1.0036088929211784, 0.9697093651940524, 0.9841516481487986, 0.9893438042879534, 1.0025202013583732, 1.0063875746713398, 0.6766286271515128, 0.9285597804272773, 0.9825046142170458, 1.0082606783123604, 1.041133023958551, 1.0151692025961525, 0.9338279291916372, 1.012991110589069, 1.0072955042561542, 0.9889348295702718, 1.0027474759286048, 0.8640500594004259, 1.0077709935231074, 1.0104263001642018, 1.0236106081291116, 1.0009492758173226, 0.9826118814160913, 1.0088017508705587], \"type\": \"scatter\", \"uid\": \"d7e2be4c-7e7f-4eda-8c6e-197a574b9da7\"}, {\"marker\": {\"color\": \"#ff8080\", \"line\": {\"width\": 1}, \"size\": 10}, \"mode\": \"markers\", \"name\": \"0\", \"x\": [45, 54, 59, 42, 50, 66, 42, 45, 45, 29, 71, 52, 67, 66, 70, 68, 57, 52, 51, 41, 64, 48, 57, 62, 74, 61, 63, 71, 65, 54, 51, 71, 46, 43, 44, 42, 67, 45, 50, 43, 55, 44, 47, 52, 37, 52, 53, 51, 41, 57, 55, 49, 54, 44, 68, 69, 65, 58, 39, 56, 51, 64, 64, 54, 51, 64, 50, 41, 58, 41, 34, 57, 53, 65, 42, 54, 51, 58, 41, 65, 44, 44, 56, 44, 63, 40, 54, 54, 69, 48, 44, 49, 53, 67, 57, 63, 64, 54, 48, 54], \"y\": [0.015099030203807873, 0.017753427980229053, 0.012289147711879389, -0.05036059591151221, -0.027734527029961376, 0.02400820472563958, 0.005832845197629388, -0.0005594850632153481, 0.0007170147144224259, 0.012836957467982413, -0.04956722720022033, -0.02567645096986304, -0.0065094924713215985, -0.007386164802483108, 0.0020198285891462886, 0.0002693271448904744, 0.17504697554002213, 0.010632910225124581, 0.09297410007028217, 0.01155908070352396, -0.037593288763420496, 0.032519961070772374, -0.00400506518765853, -0.020537299569705514, 0.0179007683989294, 0.013025260375408632, -0.02130719350916288, -0.009392158018665553, 0.01204548577037845, 0.008959737141002844, 0.00369592922039641, 0.003909250622890603, 0.019905199915490224, 0.035570101418097466, 0.0014534631126275066, -0.042345491894281606, 0.013627494584580457, -0.023966752028629523, 0.11613099101987934, 0.004698205918223897, 0.05133683286625079, -0.04820478852481269, -0.06630591726319146, 0.004979213243922032, 0.0040010413903646125, -0.008148113680226166, -0.008088973384348108, 0.04945833528369237, -0.008618826548710379, -0.1154657210369423, 0.19318765471024096, -0.048608945496595224, -0.0023378146323185245, -0.004799376861324367, 0.003206711552020458, -0.013002233325612234, 0.038139827609391386, 0.00831100293903475, -0.028995998713909676, -0.026271227079128434, -0.11857754572738877, -0.029317613949785493, -0.011505146962070167, 0.006839345856493817, 0.031955507931127336, 0.0589687866953259, -0.04624809192627832, 0.17013519256653886, 0.009589710962937925, 0.007765369055382831, -0.004102510624347744, 0.09296154365751996, -0.005443153886295793, 0.1267655816270985, -0.010605819632865887, 0.0005421854976059848, -0.006683601190445643, 0.005759554236338449, 0.028610095787963585, -0.024403024870688572, -0.010611000759360056, 0.007680227080436808, -0.03860633477714359, -0.07676983451727093, 0.016719446004618055, -0.0020960538087129166, 0.06065397011540735, 0.02008259410984592, 0.024149457330909785, -0.002086805173868056, 0.1770443685720905, -0.09192234190721138, 0.11003535081426574, 0.028930435338697214, -0.030148969485961574, -0.010521304941408571, -0.03463413077036459, 0.08026104072723128, -0.012653828572151138, -0.006245039434316535], \"type\": \"scatter\", \"uid\": \"27ec4f30-8250-4fc2-bfb7-6790d74b3480\"}], {\"hovermode\": \"closest\", \"title\": \"Age v Predicted Probability of Heart Disease\", \"xaxis\": {\"title\": \"Age\"}, \"yaxis\": {\"title\": \"Predicted Probability of Heart Disease\"}}, {\"showLink\": true, \"linkText\": \"Export to plot.ly\", \"plotlyServerURL\": \"https://plot.ly\"})});</script><script type=\"text/javascript\">window.addEventListener(\"resize\", function(){window._Plotly.Plots.resize(document.getElementById(\"533c5c5b-3ff6-45ea-bcd7-caf9aca01c94\"));});</script>"
      ]
     },
     "metadata": {},
     "output_type": "display_data"
    }
   ],
   "source": [
    "compare = pd.read_csv('./data/train_labels.csv')\n",
    "values = pd.read_csv('./data/train_values.csv')\n",
    "compare['predictions'] = pred2\n",
    "compare['age'] = values.age\n",
    "compare['sex'] = values.sex\n",
    "\n",
    "present = compare[compare.heart_disease_present == 1]\n",
    "notPresent = compare[compare.heart_disease_present == 0]\n",
    "\n",
    "heart_disease_present = go.Scatter(\n",
    "    x = present.age,\n",
    "    y = present.predictions,\n",
    "    mode = 'markers',\n",
    "    name = \"1\",\n",
    "    marker = dict( size = 10,\n",
    "            color = '#4da6ff',\n",
    "            line = dict(width = 1)\n",
    "    )\n",
    ")\n",
    "\n",
    "heart_disease_not_present = go.Scatter(\n",
    "    x = notPresent.age,\n",
    "    y = notPresent.predictions,\n",
    "    mode = 'markers',\n",
    "    name = \"0\",\n",
    "    marker = dict( size = 10,\n",
    "            color = '#ff8080',\n",
    "            line = dict(width = 1)\n",
    ")\n",
    ")\n",
    "data1 = [heart_disease_present,heart_disease_not_present]\n",
    "    \n",
    "layout1 = dict(title= 'Age v Predicted Probability of Heart Disease',\n",
    "    hovermode= 'closest',\n",
    "    xaxis= dict(\n",
    "        title= 'Age',\n",
    "    ),\n",
    "    yaxis=dict(\n",
    "        title= 'Predicted Probability of Heart Disease',\n",
    "    )\n",
    ")\n",
    "\n",
    "fig = go.Figure(data=data1, layout=layout1)\n",
    "iplot(fig)"
   ]
  },
  {
   "cell_type": "code",
   "execution_count": 60,
   "metadata": {},
   "outputs": [
    {
     "data": {
      "application/vnd.plotly.v1+json": {
       "config": {
        "linkText": "Export to plot.ly",
        "plotlyServerURL": "https://plot.ly",
        "showLink": true
       },
       "data": [
        {
         "marker": {
          "color": "#4da6ff",
          "line": {
           "width": 1
          },
          "opacity": 0.2,
          "size": 14
         },
         "mode": "markers",
         "name": "1",
         "type": "scatter",
         "uid": "195d0600-649f-4c91-99ba-bd913ee94bd3",
         "x": [
          1,
          1,
          0,
          1,
          1,
          1,
          1,
          1,
          1,
          0,
          1,
          0,
          1,
          1,
          1,
          1,
          1,
          1,
          1,
          1,
          0,
          1,
          1,
          1,
          0,
          1,
          1,
          1,
          1,
          1,
          0,
          1,
          1,
          1,
          1,
          1,
          1,
          1,
          1,
          1,
          1,
          1,
          1,
          1,
          1,
          1,
          1,
          1,
          1,
          0,
          1,
          1,
          1,
          1,
          1,
          1,
          1,
          0,
          1,
          1,
          1,
          1,
          1,
          1,
          1,
          1,
          0,
          1,
          1,
          1,
          0,
          1,
          1,
          1,
          1,
          1,
          1,
          1,
          0,
          1
         ],
         "y": [
          1.0016377668500824,
          1.0386078012239999,
          0.9910205551799596,
          0.9601470051925625,
          1.0355757749784131,
          0.9916066325381852,
          0.9944105555428967,
          0.9791430990030632,
          1.0499030721030587,
          1.0294212302802959,
          1.0268810628409346,
          1.0092916475759046,
          0.9904329788864332,
          1.0536937588297852,
          1.0425820155067862,
          0.9913470931997224,
          1.0265776197123624,
          1.0161573757962294,
          0.9494360148275818,
          0.9760155464683564,
          0.7945153877358744,
          1.0477986379702247,
          0.9556537864238619,
          1.0289969444958595,
          0.9955434855978471,
          0.9857832216522167,
          0.9693462319469635,
          1.038040479091486,
          1.0063273403434194,
          0.9903868984815967,
          1.0199510072510443,
          1.024703162266854,
          0.9782793848264019,
          1.0000766774258198,
          0.9638753362431829,
          0.9722193905316232,
          1.0164975464239965,
          1.0338505043253834,
          0.9664047734978567,
          1.030972088557662,
          1.001836860955121,
          0.992921870653705,
          1.0184152700335656,
          1.0431650533992283,
          1.0106937253700483,
          0.9805015893161614,
          1.009538841538449,
          0.9834844726808897,
          0.8359627099029656,
          1.0156442112974662,
          1.0259984038948315,
          1.0393038964590764,
          0.9812603604423726,
          0.9765237171003018,
          1.0119830674578412,
          0.9890700211605434,
          1.0036088929211784,
          0.9697093651940524,
          0.9841516481487986,
          0.9893438042879534,
          1.0025202013583732,
          1.0063875746713398,
          0.6766286271515128,
          0.9285597804272773,
          0.9825046142170458,
          1.0082606783123604,
          1.041133023958551,
          1.0151692025961525,
          0.9338279291916372,
          1.012991110589069,
          1.0072955042561542,
          0.9889348295702718,
          1.0027474759286048,
          0.8640500594004259,
          1.0077709935231074,
          1.0104263001642018,
          1.0236106081291116,
          1.0009492758173226,
          0.9826118814160913,
          1.0088017508705587
         ]
        },
        {
         "marker": {
          "color": "#ff8080",
          "line": {
           "width": 1
          },
          "opacity": 0.2,
          "size": 14
         },
         "mode": "markers",
         "name": "0",
         "type": "scatter",
         "uid": "fe5a0e9e-bc78-48a1-ae49-46a566b62118",
         "x": [
          1,
          0,
          1,
          1,
          0,
          1,
          1,
          0,
          0,
          1,
          0,
          1,
          0,
          1,
          1,
          0,
          0,
          1,
          1,
          1,
          0,
          1,
          1,
          0,
          0,
          1,
          0,
          0,
          0,
          0,
          1,
          0,
          0,
          1,
          1,
          1,
          0,
          0,
          0,
          1,
          0,
          1,
          1,
          1,
          0,
          0,
          1,
          0,
          0,
          1,
          1,
          0,
          0,
          0,
          1,
          1,
          0,
          0,
          1,
          0,
          0,
          0,
          0,
          1,
          1,
          1,
          0,
          1,
          1,
          1,
          0,
          1,
          1,
          0,
          0,
          1,
          1,
          0,
          0,
          1,
          1,
          1,
          1,
          1,
          0,
          1,
          1,
          1,
          0,
          0,
          1,
          1,
          1,
          0,
          1,
          1,
          1,
          1,
          1,
          0
         ],
         "y": [
          0.015099030203807873,
          0.017753427980229053,
          0.012289147711879389,
          -0.05036059591151221,
          -0.027734527029961376,
          0.02400820472563958,
          0.005832845197629388,
          -0.0005594850632153481,
          0.0007170147144224259,
          0.012836957467982413,
          -0.04956722720022033,
          -0.02567645096986304,
          -0.0065094924713215985,
          -0.007386164802483108,
          0.0020198285891462886,
          0.0002693271448904744,
          0.17504697554002213,
          0.010632910225124581,
          0.09297410007028217,
          0.01155908070352396,
          -0.037593288763420496,
          0.032519961070772374,
          -0.00400506518765853,
          -0.020537299569705514,
          0.0179007683989294,
          0.013025260375408632,
          -0.02130719350916288,
          -0.009392158018665553,
          0.01204548577037845,
          0.008959737141002844,
          0.00369592922039641,
          0.003909250622890603,
          0.019905199915490224,
          0.035570101418097466,
          0.0014534631126275066,
          -0.042345491894281606,
          0.013627494584580457,
          -0.023966752028629523,
          0.11613099101987934,
          0.004698205918223897,
          0.05133683286625079,
          -0.04820478852481269,
          -0.06630591726319146,
          0.004979213243922032,
          0.0040010413903646125,
          -0.008148113680226166,
          -0.008088973384348108,
          0.04945833528369237,
          -0.008618826548710379,
          -0.1154657210369423,
          0.19318765471024096,
          -0.048608945496595224,
          -0.0023378146323185245,
          -0.004799376861324367,
          0.003206711552020458,
          -0.013002233325612234,
          0.038139827609391386,
          0.00831100293903475,
          -0.028995998713909676,
          -0.026271227079128434,
          -0.11857754572738877,
          -0.029317613949785493,
          -0.011505146962070167,
          0.006839345856493817,
          0.031955507931127336,
          0.0589687866953259,
          -0.04624809192627832,
          0.17013519256653886,
          0.009589710962937925,
          0.007765369055382831,
          -0.004102510624347744,
          0.09296154365751996,
          -0.005443153886295793,
          0.1267655816270985,
          -0.010605819632865887,
          0.0005421854976059848,
          -0.006683601190445643,
          0.005759554236338449,
          0.028610095787963585,
          -0.024403024870688572,
          -0.010611000759360056,
          0.007680227080436808,
          -0.03860633477714359,
          -0.07676983451727093,
          0.016719446004618055,
          -0.0020960538087129166,
          0.06065397011540735,
          0.02008259410984592,
          0.024149457330909785,
          -0.002086805173868056,
          0.1770443685720905,
          -0.09192234190721138,
          0.11003535081426574,
          0.028930435338697214,
          -0.030148969485961574,
          -0.010521304941408571,
          -0.03463413077036459,
          0.08026104072723128,
          -0.012653828572151138,
          -0.006245039434316535
         ]
        }
       ],
       "layout": {
        "hovermode": "closest",
        "title": "Sex v Predicted Probability of Heart Disease",
        "xaxis": {
         "title": "Sex"
        },
        "yaxis": {
         "title": " Predicted Probability of Heart Disease"
        }
       }
      },
      "text/html": [
       "<div id=\"dbd08bab-33b7-430a-9575-ba1765194c8f\" style=\"height: 525px; width: 100%;\" class=\"plotly-graph-div\"></div><script type=\"text/javascript\">require([\"plotly\"], function(Plotly) { window.PLOTLYENV=window.PLOTLYENV || {};window.PLOTLYENV.BASE_URL=\"https://plot.ly\";Plotly.newPlot(\"dbd08bab-33b7-430a-9575-ba1765194c8f\", [{\"marker\": {\"color\": \"#4da6ff\", \"line\": {\"width\": 1}, \"opacity\": 0.2, \"size\": 14}, \"mode\": \"markers\", \"name\": \"1\", \"x\": [1, 1, 0, 1, 1, 1, 1, 1, 1, 0, 1, 0, 1, 1, 1, 1, 1, 1, 1, 1, 0, 1, 1, 1, 0, 1, 1, 1, 1, 1, 0, 1, 1, 1, 1, 1, 1, 1, 1, 1, 1, 1, 1, 1, 1, 1, 1, 1, 1, 0, 1, 1, 1, 1, 1, 1, 1, 0, 1, 1, 1, 1, 1, 1, 1, 1, 0, 1, 1, 1, 0, 1, 1, 1, 1, 1, 1, 1, 0, 1], \"y\": [1.0016377668500824, 1.0386078012239999, 0.9910205551799596, 0.9601470051925625, 1.0355757749784131, 0.9916066325381852, 0.9944105555428967, 0.9791430990030632, 1.0499030721030587, 1.0294212302802959, 1.0268810628409346, 1.0092916475759046, 0.9904329788864332, 1.0536937588297852, 1.0425820155067862, 0.9913470931997224, 1.0265776197123624, 1.0161573757962294, 0.9494360148275818, 0.9760155464683564, 0.7945153877358744, 1.0477986379702247, 0.9556537864238619, 1.0289969444958595, 0.9955434855978471, 0.9857832216522167, 0.9693462319469635, 1.038040479091486, 1.0063273403434194, 0.9903868984815967, 1.0199510072510443, 1.024703162266854, 0.9782793848264019, 1.0000766774258198, 0.9638753362431829, 0.9722193905316232, 1.0164975464239965, 1.0338505043253834, 0.9664047734978567, 1.030972088557662, 1.001836860955121, 0.992921870653705, 1.0184152700335656, 1.0431650533992283, 1.0106937253700483, 0.9805015893161614, 1.009538841538449, 0.9834844726808897, 0.8359627099029656, 1.0156442112974662, 1.0259984038948315, 1.0393038964590764, 0.9812603604423726, 0.9765237171003018, 1.0119830674578412, 0.9890700211605434, 1.0036088929211784, 0.9697093651940524, 0.9841516481487986, 0.9893438042879534, 1.0025202013583732, 1.0063875746713398, 0.6766286271515128, 0.9285597804272773, 0.9825046142170458, 1.0082606783123604, 1.041133023958551, 1.0151692025961525, 0.9338279291916372, 1.012991110589069, 1.0072955042561542, 0.9889348295702718, 1.0027474759286048, 0.8640500594004259, 1.0077709935231074, 1.0104263001642018, 1.0236106081291116, 1.0009492758173226, 0.9826118814160913, 1.0088017508705587], \"type\": \"scatter\", \"uid\": \"195d0600-649f-4c91-99ba-bd913ee94bd3\"}, {\"marker\": {\"color\": \"#ff8080\", \"line\": {\"width\": 1}, \"opacity\": 0.2, \"size\": 14}, \"mode\": \"markers\", \"name\": \"0\", \"x\": [1, 0, 1, 1, 0, 1, 1, 0, 0, 1, 0, 1, 0, 1, 1, 0, 0, 1, 1, 1, 0, 1, 1, 0, 0, 1, 0, 0, 0, 0, 1, 0, 0, 1, 1, 1, 0, 0, 0, 1, 0, 1, 1, 1, 0, 0, 1, 0, 0, 1, 1, 0, 0, 0, 1, 1, 0, 0, 1, 0, 0, 0, 0, 1, 1, 1, 0, 1, 1, 1, 0, 1, 1, 0, 0, 1, 1, 0, 0, 1, 1, 1, 1, 1, 0, 1, 1, 1, 0, 0, 1, 1, 1, 0, 1, 1, 1, 1, 1, 0], \"y\": [0.015099030203807873, 0.017753427980229053, 0.012289147711879389, -0.05036059591151221, -0.027734527029961376, 0.02400820472563958, 0.005832845197629388, -0.0005594850632153481, 0.0007170147144224259, 0.012836957467982413, -0.04956722720022033, -0.02567645096986304, -0.0065094924713215985, -0.007386164802483108, 0.0020198285891462886, 0.0002693271448904744, 0.17504697554002213, 0.010632910225124581, 0.09297410007028217, 0.01155908070352396, -0.037593288763420496, 0.032519961070772374, -0.00400506518765853, -0.020537299569705514, 0.0179007683989294, 0.013025260375408632, -0.02130719350916288, -0.009392158018665553, 0.01204548577037845, 0.008959737141002844, 0.00369592922039641, 0.003909250622890603, 0.019905199915490224, 0.035570101418097466, 0.0014534631126275066, -0.042345491894281606, 0.013627494584580457, -0.023966752028629523, 0.11613099101987934, 0.004698205918223897, 0.05133683286625079, -0.04820478852481269, -0.06630591726319146, 0.004979213243922032, 0.0040010413903646125, -0.008148113680226166, -0.008088973384348108, 0.04945833528369237, -0.008618826548710379, -0.1154657210369423, 0.19318765471024096, -0.048608945496595224, -0.0023378146323185245, -0.004799376861324367, 0.003206711552020458, -0.013002233325612234, 0.038139827609391386, 0.00831100293903475, -0.028995998713909676, -0.026271227079128434, -0.11857754572738877, -0.029317613949785493, -0.011505146962070167, 0.006839345856493817, 0.031955507931127336, 0.0589687866953259, -0.04624809192627832, 0.17013519256653886, 0.009589710962937925, 0.007765369055382831, -0.004102510624347744, 0.09296154365751996, -0.005443153886295793, 0.1267655816270985, -0.010605819632865887, 0.0005421854976059848, -0.006683601190445643, 0.005759554236338449, 0.028610095787963585, -0.024403024870688572, -0.010611000759360056, 0.007680227080436808, -0.03860633477714359, -0.07676983451727093, 0.016719446004618055, -0.0020960538087129166, 0.06065397011540735, 0.02008259410984592, 0.024149457330909785, -0.002086805173868056, 0.1770443685720905, -0.09192234190721138, 0.11003535081426574, 0.028930435338697214, -0.030148969485961574, -0.010521304941408571, -0.03463413077036459, 0.08026104072723128, -0.012653828572151138, -0.006245039434316535], \"type\": \"scatter\", \"uid\": \"fe5a0e9e-bc78-48a1-ae49-46a566b62118\"}], {\"hovermode\": \"closest\", \"title\": \"Sex v Predicted Probability of Heart Disease\", \"xaxis\": {\"title\": \"Sex\"}, \"yaxis\": {\"title\": \" Predicted Probability of Heart Disease\"}}, {\"showLink\": true, \"linkText\": \"Export to plot.ly\", \"plotlyServerURL\": \"https://plot.ly\"})});</script><script type=\"text/javascript\">window.addEventListener(\"resize\", function(){window._Plotly.Plots.resize(document.getElementById(\"dbd08bab-33b7-430a-9575-ba1765194c8f\"));});</script>"
      ],
      "text/vnd.plotly.v1+html": [
       "<div id=\"dbd08bab-33b7-430a-9575-ba1765194c8f\" style=\"height: 525px; width: 100%;\" class=\"plotly-graph-div\"></div><script type=\"text/javascript\">require([\"plotly\"], function(Plotly) { window.PLOTLYENV=window.PLOTLYENV || {};window.PLOTLYENV.BASE_URL=\"https://plot.ly\";Plotly.newPlot(\"dbd08bab-33b7-430a-9575-ba1765194c8f\", [{\"marker\": {\"color\": \"#4da6ff\", \"line\": {\"width\": 1}, \"opacity\": 0.2, \"size\": 14}, \"mode\": \"markers\", \"name\": \"1\", \"x\": [1, 1, 0, 1, 1, 1, 1, 1, 1, 0, 1, 0, 1, 1, 1, 1, 1, 1, 1, 1, 0, 1, 1, 1, 0, 1, 1, 1, 1, 1, 0, 1, 1, 1, 1, 1, 1, 1, 1, 1, 1, 1, 1, 1, 1, 1, 1, 1, 1, 0, 1, 1, 1, 1, 1, 1, 1, 0, 1, 1, 1, 1, 1, 1, 1, 1, 0, 1, 1, 1, 0, 1, 1, 1, 1, 1, 1, 1, 0, 1], \"y\": [1.0016377668500824, 1.0386078012239999, 0.9910205551799596, 0.9601470051925625, 1.0355757749784131, 0.9916066325381852, 0.9944105555428967, 0.9791430990030632, 1.0499030721030587, 1.0294212302802959, 1.0268810628409346, 1.0092916475759046, 0.9904329788864332, 1.0536937588297852, 1.0425820155067862, 0.9913470931997224, 1.0265776197123624, 1.0161573757962294, 0.9494360148275818, 0.9760155464683564, 0.7945153877358744, 1.0477986379702247, 0.9556537864238619, 1.0289969444958595, 0.9955434855978471, 0.9857832216522167, 0.9693462319469635, 1.038040479091486, 1.0063273403434194, 0.9903868984815967, 1.0199510072510443, 1.024703162266854, 0.9782793848264019, 1.0000766774258198, 0.9638753362431829, 0.9722193905316232, 1.0164975464239965, 1.0338505043253834, 0.9664047734978567, 1.030972088557662, 1.001836860955121, 0.992921870653705, 1.0184152700335656, 1.0431650533992283, 1.0106937253700483, 0.9805015893161614, 1.009538841538449, 0.9834844726808897, 0.8359627099029656, 1.0156442112974662, 1.0259984038948315, 1.0393038964590764, 0.9812603604423726, 0.9765237171003018, 1.0119830674578412, 0.9890700211605434, 1.0036088929211784, 0.9697093651940524, 0.9841516481487986, 0.9893438042879534, 1.0025202013583732, 1.0063875746713398, 0.6766286271515128, 0.9285597804272773, 0.9825046142170458, 1.0082606783123604, 1.041133023958551, 1.0151692025961525, 0.9338279291916372, 1.012991110589069, 1.0072955042561542, 0.9889348295702718, 1.0027474759286048, 0.8640500594004259, 1.0077709935231074, 1.0104263001642018, 1.0236106081291116, 1.0009492758173226, 0.9826118814160913, 1.0088017508705587], \"type\": \"scatter\", \"uid\": \"195d0600-649f-4c91-99ba-bd913ee94bd3\"}, {\"marker\": {\"color\": \"#ff8080\", \"line\": {\"width\": 1}, \"opacity\": 0.2, \"size\": 14}, \"mode\": \"markers\", \"name\": \"0\", \"x\": [1, 0, 1, 1, 0, 1, 1, 0, 0, 1, 0, 1, 0, 1, 1, 0, 0, 1, 1, 1, 0, 1, 1, 0, 0, 1, 0, 0, 0, 0, 1, 0, 0, 1, 1, 1, 0, 0, 0, 1, 0, 1, 1, 1, 0, 0, 1, 0, 0, 1, 1, 0, 0, 0, 1, 1, 0, 0, 1, 0, 0, 0, 0, 1, 1, 1, 0, 1, 1, 1, 0, 1, 1, 0, 0, 1, 1, 0, 0, 1, 1, 1, 1, 1, 0, 1, 1, 1, 0, 0, 1, 1, 1, 0, 1, 1, 1, 1, 1, 0], \"y\": [0.015099030203807873, 0.017753427980229053, 0.012289147711879389, -0.05036059591151221, -0.027734527029961376, 0.02400820472563958, 0.005832845197629388, -0.0005594850632153481, 0.0007170147144224259, 0.012836957467982413, -0.04956722720022033, -0.02567645096986304, -0.0065094924713215985, -0.007386164802483108, 0.0020198285891462886, 0.0002693271448904744, 0.17504697554002213, 0.010632910225124581, 0.09297410007028217, 0.01155908070352396, -0.037593288763420496, 0.032519961070772374, -0.00400506518765853, -0.020537299569705514, 0.0179007683989294, 0.013025260375408632, -0.02130719350916288, -0.009392158018665553, 0.01204548577037845, 0.008959737141002844, 0.00369592922039641, 0.003909250622890603, 0.019905199915490224, 0.035570101418097466, 0.0014534631126275066, -0.042345491894281606, 0.013627494584580457, -0.023966752028629523, 0.11613099101987934, 0.004698205918223897, 0.05133683286625079, -0.04820478852481269, -0.06630591726319146, 0.004979213243922032, 0.0040010413903646125, -0.008148113680226166, -0.008088973384348108, 0.04945833528369237, -0.008618826548710379, -0.1154657210369423, 0.19318765471024096, -0.048608945496595224, -0.0023378146323185245, -0.004799376861324367, 0.003206711552020458, -0.013002233325612234, 0.038139827609391386, 0.00831100293903475, -0.028995998713909676, -0.026271227079128434, -0.11857754572738877, -0.029317613949785493, -0.011505146962070167, 0.006839345856493817, 0.031955507931127336, 0.0589687866953259, -0.04624809192627832, 0.17013519256653886, 0.009589710962937925, 0.007765369055382831, -0.004102510624347744, 0.09296154365751996, -0.005443153886295793, 0.1267655816270985, -0.010605819632865887, 0.0005421854976059848, -0.006683601190445643, 0.005759554236338449, 0.028610095787963585, -0.024403024870688572, -0.010611000759360056, 0.007680227080436808, -0.03860633477714359, -0.07676983451727093, 0.016719446004618055, -0.0020960538087129166, 0.06065397011540735, 0.02008259410984592, 0.024149457330909785, -0.002086805173868056, 0.1770443685720905, -0.09192234190721138, 0.11003535081426574, 0.028930435338697214, -0.030148969485961574, -0.010521304941408571, -0.03463413077036459, 0.08026104072723128, -0.012653828572151138, -0.006245039434316535], \"type\": \"scatter\", \"uid\": \"fe5a0e9e-bc78-48a1-ae49-46a566b62118\"}], {\"hovermode\": \"closest\", \"title\": \"Sex v Predicted Probability of Heart Disease\", \"xaxis\": {\"title\": \"Sex\"}, \"yaxis\": {\"title\": \" Predicted Probability of Heart Disease\"}}, {\"showLink\": true, \"linkText\": \"Export to plot.ly\", \"plotlyServerURL\": \"https://plot.ly\"})});</script><script type=\"text/javascript\">window.addEventListener(\"resize\", function(){window._Plotly.Plots.resize(document.getElementById(\"dbd08bab-33b7-430a-9575-ba1765194c8f\"));});</script>"
      ]
     },
     "metadata": {},
     "output_type": "display_data"
    }
   ],
   "source": [
    "# Plot for age v probability of heart disease\n",
    "heart_disease_present2 = go.Scatter(\n",
    "    x = present.sex,\n",
    "    y = present.predictions,\n",
    "    mode = 'markers', \n",
    "    name = \"1\",\n",
    "    marker = dict(size= 14,\n",
    "            color = '#4da6ff',\n",
    "            line = dict(width = 1),\n",
    "            opacity = 0.2\n",
    "    )\n",
    ")\n",
    "\n",
    "heart_disease_not_present2 = go.Scatter(\n",
    "    x = notPresent.sex,\n",
    "    y = notPresent.predictions,\n",
    "    mode = 'markers',\n",
    "    name = '0',\n",
    "    marker = dict(size= 14,\n",
    "            color = '#ff8080',\n",
    "            line = dict(width = 1),\n",
    "            opacity = 0.2      \n",
    ")\n",
    ")\n",
    "data2 = [heart_disease_present2,heart_disease_not_present2]\n",
    "    \n",
    "layout2 = dict(title= 'Sex v Predicted Probability of Heart Disease',\n",
    "    hovermode= 'closest',\n",
    "    xaxis= dict(\n",
    "        title= 'Sex',\n",
    "    ),\n",
    "    yaxis=dict(\n",
    "        title= ' Predicted Probability of Heart Disease',\n",
    "    )\n",
    ")\n",
    "\n",
    "fig = go.Figure(data=data2, layout=layout2)\n",
    "iplot(fig)"
   ]
  },
  {
   "cell_type": "code",
   "execution_count": null,
   "metadata": {},
   "outputs": [],
   "source": []
  }
 ],
 "metadata": {
  "kernelspec": {
   "display_name": "Python 3",
   "language": "python",
   "name": "python3"
  },
  "language_info": {
   "codemirror_mode": {
    "name": "ipython",
    "version": 3
   },
   "file_extension": ".py",
   "mimetype": "text/x-python",
   "name": "python",
   "nbconvert_exporter": "python",
   "pygments_lexer": "ipython3",
   "version": "3.6.1"
  }
 },
 "nbformat": 4,
 "nbformat_minor": 2
}
